{
 "cells": [
  {
   "cell_type": "code",
   "execution_count": 1,
   "metadata": {},
   "outputs": [],
   "source": [
    "import pandas as pd\n",
    "import numpy as np\n",
    "import matplotlib.pyplot as plt\n"
   ]
  },
  {
   "cell_type": "code",
   "execution_count": 2,
   "metadata": {},
   "outputs": [],
   "source": [
    "import seaborn as sns"
   ]
  },
  {
   "cell_type": "code",
   "execution_count": 6,
   "metadata": {},
   "outputs": [],
   "source": [
    "df = pd.read_excel(r\"C:\\Users\\Abhay Mahajan\\ManualPositive.xlsx\")"
   ]
  },
  {
   "cell_type": "code",
   "execution_count": 8,
   "metadata": {},
   "outputs": [
    {
     "data": {
      "text/html": [
       "<div>\n",
       "<style scoped>\n",
       "    .dataframe tbody tr th:only-of-type {\n",
       "        vertical-align: middle;\n",
       "    }\n",
       "\n",
       "    .dataframe tbody tr th {\n",
       "        vertical-align: top;\n",
       "    }\n",
       "\n",
       "    .dataframe thead th {\n",
       "        text-align: right;\n",
       "    }\n",
       "</style>\n",
       "<table border=\"1\" class=\"dataframe\">\n",
       "  <thead>\n",
       "    <tr style=\"text-align: right;\">\n",
       "      <th></th>\n",
       "      <th>username</th>\n",
       "      <th>user_url</th>\n",
       "      <th>num_stars</th>\n",
       "      <th>review_text</th>\n",
       "      <th>lang</th>\n",
       "      <th>review_date</th>\n",
       "      <th>type</th>\n",
       "      <th>scraped_from</th>\n",
       "      <th>Relevant</th>\n",
       "      <th>Sentiment</th>\n",
       "      <th>Topic</th>\n",
       "      <th>Key words</th>\n",
       "      <th>Objects</th>\n",
       "      <th>Names</th>\n",
       "    </tr>\n",
       "  </thead>\n",
       "  <tbody>\n",
       "    <tr>\n",
       "      <th>0</th>\n",
       "      <td>Nate Neel</td>\n",
       "      <td>https://www.google.com/maps/contrib/1121030547...</td>\n",
       "      <td>5</td>\n",
       "      <td>Waterfront to fish or just relax, great place ...</td>\n",
       "      <td>en</td>\n",
       "      <td>2020-10-20 22:04:09</td>\n",
       "      <td>Park</td>\n",
       "      <td>Google Maps</td>\n",
       "      <td>yes</td>\n",
       "      <td>positive</td>\n",
       "      <td>walkability</td>\n",
       "      <td>picnic,hangout,relax</td>\n",
       "      <td>NaN</td>\n",
       "      <td>NaN</td>\n",
       "    </tr>\n",
       "    <tr>\n",
       "      <th>1</th>\n",
       "      <td>Johnny Evangelista</td>\n",
       "      <td>https://www.google.com/maps/contrib/1081264861...</td>\n",
       "      <td>5</td>\n",
       "      <td>Tennis courts, soccer field, 1 basketball net....</td>\n",
       "      <td>en</td>\n",
       "      <td>2021-04-22 11:54:53</td>\n",
       "      <td>Park</td>\n",
       "      <td>Google Maps</td>\n",
       "      <td>yes</td>\n",
       "      <td>positive</td>\n",
       "      <td>sports facilities</td>\n",
       "      <td>tennis courts,soccer field</td>\n",
       "      <td>tennis courts,soccer field , basketball net</td>\n",
       "      <td>NaN</td>\n",
       "    </tr>\n",
       "    <tr>\n",
       "      <th>2</th>\n",
       "      <td>Desmond Yu</td>\n",
       "      <td>https://www.google.com/maps/contrib/1174595133...</td>\n",
       "      <td>5</td>\n",
       "      <td>Kids can play in the playground, enjoying outd...</td>\n",
       "      <td>en</td>\n",
       "      <td>2021-04-22 11:21:25</td>\n",
       "      <td>Park</td>\n",
       "      <td>Google Maps</td>\n",
       "      <td>yes</td>\n",
       "      <td>positive</td>\n",
       "      <td>sports facilities</td>\n",
       "      <td>playground,game,soccer</td>\n",
       "      <td>park,lake,soccer,bench,playground</td>\n",
       "      <td>NaN</td>\n",
       "    </tr>\n",
       "    <tr>\n",
       "      <th>3</th>\n",
       "      <td>Desmond Yu</td>\n",
       "      <td>https://www.google.com/maps/contrib/1174595133...</td>\n",
       "      <td>5</td>\n",
       "      <td>Couples can take a walk or find a bench and ch...</td>\n",
       "      <td>en</td>\n",
       "      <td>2021-04-22 11:21:25</td>\n",
       "      <td>Park</td>\n",
       "      <td>Google Maps</td>\n",
       "      <td>yes</td>\n",
       "      <td>positive</td>\n",
       "      <td>walkability</td>\n",
       "      <td>playground,bench.route</td>\n",
       "      <td>park,lake,soccer,bench,playground</td>\n",
       "      <td>NaN</td>\n",
       "    </tr>\n",
       "    <tr>\n",
       "      <th>4</th>\n",
       "      <td>irene karpontinis</td>\n",
       "      <td>https://www.google.com/maps/contrib/1077994536...</td>\n",
       "      <td>5</td>\n",
       "      <td>I took a most enjoyable stroll admiring the lu...</td>\n",
       "      <td>en</td>\n",
       "      <td>2018-06-22 11:21:25</td>\n",
       "      <td>Park</td>\n",
       "      <td>Google Maps</td>\n",
       "      <td>yes</td>\n",
       "      <td>positive</td>\n",
       "      <td>walkability</td>\n",
       "      <td>stroll</td>\n",
       "      <td>athletic fields,park,cycling paths,</td>\n",
       "      <td>NaN</td>\n",
       "    </tr>\n",
       "  </tbody>\n",
       "</table>\n",
       "</div>"
      ],
      "text/plain": [
       "             username                                           user_url  \\\n",
       "0           Nate Neel  https://www.google.com/maps/contrib/1121030547...   \n",
       "1  Johnny Evangelista  https://www.google.com/maps/contrib/1081264861...   \n",
       "2          Desmond Yu  https://www.google.com/maps/contrib/1174595133...   \n",
       "3          Desmond Yu  https://www.google.com/maps/contrib/1174595133...   \n",
       "4   irene karpontinis  https://www.google.com/maps/contrib/1077994536...   \n",
       "\n",
       "   num_stars                                        review_text lang  \\\n",
       "0          5  Waterfront to fish or just relax, great place ...   en   \n",
       "1          5  Tennis courts, soccer field, 1 basketball net....   en   \n",
       "2          5  Kids can play in the playground, enjoying outd...   en   \n",
       "3          5  Couples can take a walk or find a bench and ch...   en   \n",
       "4          5  I took a most enjoyable stroll admiring the lu...   en   \n",
       "\n",
       "           review_date  type scraped_from Relevant Sentiment  \\\n",
       "0  2020-10-20 22:04:09  Park  Google Maps      yes  positive   \n",
       "1  2021-04-22 11:54:53  Park  Google Maps      yes  positive   \n",
       "2  2021-04-22 11:21:25  Park  Google Maps      yes  positive   \n",
       "3  2021-04-22 11:21:25  Park  Google Maps      yes  positive   \n",
       "4  2018-06-22 11:21:25  Park  Google Maps      yes  positive   \n",
       "\n",
       "               Topic                   Key words  \\\n",
       "0        walkability        picnic,hangout,relax   \n",
       "1  sports facilities  tennis courts,soccer field   \n",
       "2  sports facilities      playground,game,soccer   \n",
       "3        walkability      playground,bench.route   \n",
       "4        walkability                      stroll   \n",
       "\n",
       "                                       Objects Names  \n",
       "0                                          NaN   NaN  \n",
       "1  tennis courts,soccer field , basketball net   NaN  \n",
       "2            park,lake,soccer,bench,playground   NaN  \n",
       "3            park,lake,soccer,bench,playground   NaN  \n",
       "4          athletic fields,park,cycling paths,   NaN  "
      ]
     },
     "execution_count": 8,
     "metadata": {},
     "output_type": "execute_result"
    }
   ],
   "source": [
    "df.head()"
   ]
  },
  {
   "cell_type": "code",
   "execution_count": 9,
   "metadata": {},
   "outputs": [],
   "source": [
    "df.drop(['Key words', 'Objects' , 'Names' , 'user_url' , 'review_date'], axis=1, inplace=True)"
   ]
  },
  {
   "cell_type": "code",
   "execution_count": 10,
   "metadata": {
    "scrolled": true
   },
   "outputs": [
    {
     "data": {
      "text/html": [
       "<div>\n",
       "<style scoped>\n",
       "    .dataframe tbody tr th:only-of-type {\n",
       "        vertical-align: middle;\n",
       "    }\n",
       "\n",
       "    .dataframe tbody tr th {\n",
       "        vertical-align: top;\n",
       "    }\n",
       "\n",
       "    .dataframe thead th {\n",
       "        text-align: right;\n",
       "    }\n",
       "</style>\n",
       "<table border=\"1\" class=\"dataframe\">\n",
       "  <thead>\n",
       "    <tr style=\"text-align: right;\">\n",
       "      <th></th>\n",
       "      <th>username</th>\n",
       "      <th>num_stars</th>\n",
       "      <th>review_text</th>\n",
       "      <th>lang</th>\n",
       "      <th>type</th>\n",
       "      <th>scraped_from</th>\n",
       "      <th>Relevant</th>\n",
       "      <th>Sentiment</th>\n",
       "      <th>Topic</th>\n",
       "    </tr>\n",
       "  </thead>\n",
       "  <tbody>\n",
       "    <tr>\n",
       "      <th>0</th>\n",
       "      <td>Nate Neel</td>\n",
       "      <td>5</td>\n",
       "      <td>Waterfront to fish or just relax, great place ...</td>\n",
       "      <td>en</td>\n",
       "      <td>Park</td>\n",
       "      <td>Google Maps</td>\n",
       "      <td>yes</td>\n",
       "      <td>positive</td>\n",
       "      <td>walkability</td>\n",
       "    </tr>\n",
       "    <tr>\n",
       "      <th>1</th>\n",
       "      <td>Johnny Evangelista</td>\n",
       "      <td>5</td>\n",
       "      <td>Tennis courts, soccer field, 1 basketball net....</td>\n",
       "      <td>en</td>\n",
       "      <td>Park</td>\n",
       "      <td>Google Maps</td>\n",
       "      <td>yes</td>\n",
       "      <td>positive</td>\n",
       "      <td>sports facilities</td>\n",
       "    </tr>\n",
       "    <tr>\n",
       "      <th>2</th>\n",
       "      <td>Desmond Yu</td>\n",
       "      <td>5</td>\n",
       "      <td>Kids can play in the playground, enjoying outd...</td>\n",
       "      <td>en</td>\n",
       "      <td>Park</td>\n",
       "      <td>Google Maps</td>\n",
       "      <td>yes</td>\n",
       "      <td>positive</td>\n",
       "      <td>sports facilities</td>\n",
       "    </tr>\n",
       "    <tr>\n",
       "      <th>3</th>\n",
       "      <td>Desmond Yu</td>\n",
       "      <td>5</td>\n",
       "      <td>Couples can take a walk or find a bench and ch...</td>\n",
       "      <td>en</td>\n",
       "      <td>Park</td>\n",
       "      <td>Google Maps</td>\n",
       "      <td>yes</td>\n",
       "      <td>positive</td>\n",
       "      <td>walkability</td>\n",
       "    </tr>\n",
       "    <tr>\n",
       "      <th>4</th>\n",
       "      <td>irene karpontinis</td>\n",
       "      <td>5</td>\n",
       "      <td>I took a most enjoyable stroll admiring the lu...</td>\n",
       "      <td>en</td>\n",
       "      <td>Park</td>\n",
       "      <td>Google Maps</td>\n",
       "      <td>yes</td>\n",
       "      <td>positive</td>\n",
       "      <td>walkability</td>\n",
       "    </tr>\n",
       "  </tbody>\n",
       "</table>\n",
       "</div>"
      ],
      "text/plain": [
       "             username  num_stars  \\\n",
       "0           Nate Neel          5   \n",
       "1  Johnny Evangelista          5   \n",
       "2          Desmond Yu          5   \n",
       "3          Desmond Yu          5   \n",
       "4   irene karpontinis          5   \n",
       "\n",
       "                                         review_text lang  type scraped_from  \\\n",
       "0  Waterfront to fish or just relax, great place ...   en  Park  Google Maps   \n",
       "1  Tennis courts, soccer field, 1 basketball net....   en  Park  Google Maps   \n",
       "2  Kids can play in the playground, enjoying outd...   en  Park  Google Maps   \n",
       "3  Couples can take a walk or find a bench and ch...   en  Park  Google Maps   \n",
       "4  I took a most enjoyable stroll admiring the lu...   en  Park  Google Maps   \n",
       "\n",
       "  Relevant Sentiment              Topic  \n",
       "0      yes  positive        walkability  \n",
       "1      yes  positive  sports facilities  \n",
       "2      yes  positive  sports facilities  \n",
       "3      yes  positive        walkability  \n",
       "4      yes  positive        walkability  "
      ]
     },
     "execution_count": 10,
     "metadata": {},
     "output_type": "execute_result"
    }
   ],
   "source": [
    "df.head()"
   ]
  },
  {
   "cell_type": "code",
   "execution_count": 11,
   "metadata": {},
   "outputs": [],
   "source": [
    "names = pd.read_excel(r\"C:\\Users\\Abhay Mahajan\\Desktop\\MITACS\\Names.xlsx\" , header=None)"
   ]
  },
  {
   "cell_type": "code",
   "execution_count": 12,
   "metadata": {},
   "outputs": [
    {
     "data": {
      "text/html": [
       "<div>\n",
       "<style scoped>\n",
       "    .dataframe tbody tr th:only-of-type {\n",
       "        vertical-align: middle;\n",
       "    }\n",
       "\n",
       "    .dataframe tbody tr th {\n",
       "        vertical-align: top;\n",
       "    }\n",
       "\n",
       "    .dataframe thead th {\n",
       "        text-align: right;\n",
       "    }\n",
       "</style>\n",
       "<table border=\"1\" class=\"dataframe\">\n",
       "  <thead>\n",
       "    <tr style=\"text-align: right;\">\n",
       "      <th></th>\n",
       "      <th>0</th>\n",
       "      <th>1</th>\n",
       "    </tr>\n",
       "  </thead>\n",
       "  <tbody>\n",
       "    <tr>\n",
       "      <th>0</th>\n",
       "      <td>Parc de la Capture-d'Ethan-Allen</td>\n",
       "      <td>Park</td>\n",
       "    </tr>\n",
       "    <tr>\n",
       "      <th>1</th>\n",
       "      <td>Parc Mohawk</td>\n",
       "      <td>Park</td>\n",
       "    </tr>\n",
       "    <tr>\n",
       "      <th>2</th>\n",
       "      <td>Parc Marcel-Laurin</td>\n",
       "      <td>Park</td>\n",
       "    </tr>\n",
       "    <tr>\n",
       "      <th>3</th>\n",
       "      <td>Parc Marcel-Laurin</td>\n",
       "      <td>Park</td>\n",
       "    </tr>\n",
       "    <tr>\n",
       "      <th>4</th>\n",
       "      <td>Parc Marcel-Laurin</td>\n",
       "      <td>Park</td>\n",
       "    </tr>\n",
       "    <tr>\n",
       "      <th>...</th>\n",
       "      <td>...</td>\n",
       "      <td>...</td>\n",
       "    </tr>\n",
       "    <tr>\n",
       "      <th>2012</th>\n",
       "      <td>Parc du Mont-Royal</td>\n",
       "      <td>Park</td>\n",
       "    </tr>\n",
       "    <tr>\n",
       "      <th>2013</th>\n",
       "      <td>Parc du Mont-Royal</td>\n",
       "      <td>Park</td>\n",
       "    </tr>\n",
       "    <tr>\n",
       "      <th>2014</th>\n",
       "      <td>Parc du Mont-Royal</td>\n",
       "      <td>Park</td>\n",
       "    </tr>\n",
       "    <tr>\n",
       "      <th>2015</th>\n",
       "      <td>Parc du Mont-Royal</td>\n",
       "      <td>Park</td>\n",
       "    </tr>\n",
       "    <tr>\n",
       "      <th>2016</th>\n",
       "      <td>Parc du Mont-Royal</td>\n",
       "      <td>Park</td>\n",
       "    </tr>\n",
       "  </tbody>\n",
       "</table>\n",
       "<p>2017 rows × 2 columns</p>\n",
       "</div>"
      ],
      "text/plain": [
       "                                     0     1\n",
       "0     Parc de la Capture-d'Ethan-Allen  Park\n",
       "1                          Parc Mohawk  Park\n",
       "2                   Parc Marcel-Laurin  Park\n",
       "3                   Parc Marcel-Laurin  Park\n",
       "4                   Parc Marcel-Laurin  Park\n",
       "...                                ...   ...\n",
       "2012                Parc du Mont-Royal  Park\n",
       "2013                Parc du Mont-Royal  Park\n",
       "2014                Parc du Mont-Royal  Park\n",
       "2015                Parc du Mont-Royal  Park\n",
       "2016                Parc du Mont-Royal  Park\n",
       "\n",
       "[2017 rows x 2 columns]"
      ]
     },
     "execution_count": 12,
     "metadata": {},
     "output_type": "execute_result"
    }
   ],
   "source": [
    "names"
   ]
  },
  {
   "cell_type": "code",
   "execution_count": 13,
   "metadata": {},
   "outputs": [],
   "source": [
    "names = names.rename(columns={0:'Names' , 1 : 'Type'})"
   ]
  },
  {
   "cell_type": "code",
   "execution_count": 14,
   "metadata": {},
   "outputs": [
    {
     "data": {
      "text/html": [
       "<div>\n",
       "<style scoped>\n",
       "    .dataframe tbody tr th:only-of-type {\n",
       "        vertical-align: middle;\n",
       "    }\n",
       "\n",
       "    .dataframe tbody tr th {\n",
       "        vertical-align: top;\n",
       "    }\n",
       "\n",
       "    .dataframe thead th {\n",
       "        text-align: right;\n",
       "    }\n",
       "</style>\n",
       "<table border=\"1\" class=\"dataframe\">\n",
       "  <thead>\n",
       "    <tr style=\"text-align: right;\">\n",
       "      <th></th>\n",
       "      <th>Names</th>\n",
       "      <th>Type</th>\n",
       "    </tr>\n",
       "  </thead>\n",
       "  <tbody>\n",
       "    <tr>\n",
       "      <th>0</th>\n",
       "      <td>Parc de la Capture-d'Ethan-Allen</td>\n",
       "      <td>Park</td>\n",
       "    </tr>\n",
       "    <tr>\n",
       "      <th>1</th>\n",
       "      <td>Parc Mohawk</td>\n",
       "      <td>Park</td>\n",
       "    </tr>\n",
       "    <tr>\n",
       "      <th>2</th>\n",
       "      <td>Parc Marcel-Laurin</td>\n",
       "      <td>Park</td>\n",
       "    </tr>\n",
       "    <tr>\n",
       "      <th>3</th>\n",
       "      <td>Parc Marcel-Laurin</td>\n",
       "      <td>Park</td>\n",
       "    </tr>\n",
       "    <tr>\n",
       "      <th>4</th>\n",
       "      <td>Parc Marcel-Laurin</td>\n",
       "      <td>Park</td>\n",
       "    </tr>\n",
       "    <tr>\n",
       "      <th>...</th>\n",
       "      <td>...</td>\n",
       "      <td>...</td>\n",
       "    </tr>\n",
       "    <tr>\n",
       "      <th>2012</th>\n",
       "      <td>Parc du Mont-Royal</td>\n",
       "      <td>Park</td>\n",
       "    </tr>\n",
       "    <tr>\n",
       "      <th>2013</th>\n",
       "      <td>Parc du Mont-Royal</td>\n",
       "      <td>Park</td>\n",
       "    </tr>\n",
       "    <tr>\n",
       "      <th>2014</th>\n",
       "      <td>Parc du Mont-Royal</td>\n",
       "      <td>Park</td>\n",
       "    </tr>\n",
       "    <tr>\n",
       "      <th>2015</th>\n",
       "      <td>Parc du Mont-Royal</td>\n",
       "      <td>Park</td>\n",
       "    </tr>\n",
       "    <tr>\n",
       "      <th>2016</th>\n",
       "      <td>Parc du Mont-Royal</td>\n",
       "      <td>Park</td>\n",
       "    </tr>\n",
       "  </tbody>\n",
       "</table>\n",
       "<p>2017 rows × 2 columns</p>\n",
       "</div>"
      ],
      "text/plain": [
       "                                 Names  Type\n",
       "0     Parc de la Capture-d'Ethan-Allen  Park\n",
       "1                          Parc Mohawk  Park\n",
       "2                   Parc Marcel-Laurin  Park\n",
       "3                   Parc Marcel-Laurin  Park\n",
       "4                   Parc Marcel-Laurin  Park\n",
       "...                                ...   ...\n",
       "2012                Parc du Mont-Royal  Park\n",
       "2013                Parc du Mont-Royal  Park\n",
       "2014                Parc du Mont-Royal  Park\n",
       "2015                Parc du Mont-Royal  Park\n",
       "2016                Parc du Mont-Royal  Park\n",
       "\n",
       "[2017 rows x 2 columns]"
      ]
     },
     "execution_count": 14,
     "metadata": {},
     "output_type": "execute_result"
    }
   ],
   "source": [
    "names"
   ]
  },
  {
   "cell_type": "code",
   "execution_count": 15,
   "metadata": {},
   "outputs": [
    {
     "data": {
      "text/plain": [
       "286"
      ]
     },
     "execution_count": 15,
     "metadata": {},
     "output_type": "execute_result"
    }
   ],
   "source": [
    "# Number of Unique Names\n",
    "len(pd.unique(names['Names']))"
   ]
  },
  {
   "cell_type": "code",
   "execution_count": 16,
   "metadata": {},
   "outputs": [
    {
     "data": {
      "text/plain": [
       "Park      1966\n",
       "Subway      50\n",
       "Name: type, dtype: int64"
      ]
     },
     "execution_count": 16,
     "metadata": {},
     "output_type": "execute_result"
    }
   ],
   "source": [
    "# Number of reviews belonging to parks and subways\n",
    "df['type'].value_counts()"
   ]
  },
  {
   "cell_type": "code",
   "execution_count": 17,
   "metadata": {},
   "outputs": [
    {
     "data": {
      "text/plain": [
       "positive    1976\n",
       "negative      40\n",
       "Name: Sentiment, dtype: int64"
      ]
     },
     "execution_count": 17,
     "metadata": {},
     "output_type": "execute_result"
    }
   ],
   "source": [
    "df['Sentiment'].value_counts()"
   ]
  },
  {
   "cell_type": "code",
   "execution_count": 18,
   "metadata": {},
   "outputs": [
    {
     "data": {
      "text/plain": [
       "walkability          766\n",
       "sports facilities    550\n",
       "amenities            210\n",
       "maintenance          149\n",
       "cleanliness           91\n",
       "green spaces          59\n",
       "accessibility         43\n",
       "parking               37\n",
       "cycling               26\n",
       "architecture          25\n",
       "transit                8\n",
       "construction           7\n",
       "management             2\n",
       "Name: Topic, dtype: int64"
      ]
     },
     "execution_count": 18,
     "metadata": {},
     "output_type": "execute_result"
    }
   ],
   "source": [
    "df['Topic'].value_counts()"
   ]
  },
  {
   "cell_type": "code",
   "execution_count": 24,
   "metadata": {},
   "outputs": [
    {
     "data": {
      "text/plain": [
       "array([\"Parc de la Capture-d'Ethan-Allen\", 'Parc Mohawk',\n",
       "       'Parc Marcel-Laurin', 'Parc du Quai-de-la-Tortue',\n",
       "       'Parc du Mont-Royal', 'Parc David-Lefebvre', 'Parc Saint-Anne',\n",
       "       'Parc Jean-Brillant - Côte-des-Neiges–Notre-Dame-de-Grâce',\n",
       "       'Parc Jean-Duceppe', 'Place des Fleurs-de-Macadam', 'Parc Coffee',\n",
       "       'Parc du Bois-Franc', 'Place du Canada', 'Parc Jeanne-Mance',\n",
       "       \"Parc du Vaisseau-d'Or\", 'Parc Notre-Dame-de-Grâce',\n",
       "       'Parc Eusèbe-Ménard', 'Parc Madeleine-Parent', 'Parc Summerlea',\n",
       "       'Parc du Sault-au-Récollet', 'Parc L’Archevêque', 'Parc Painter',\n",
       "       'Parc Étienne-Desmarteau', 'Parc Pierre-Blanchet',\n",
       "       'Parc Hartenstein', 'Parc Loyola',\n",
       "       'Parc Marie-Claire-Kirkland-Casgrain',\n",
       "       'Parc Pierre-Elliott-Trudeau', 'Parc Ferland',\n",
       "       'Parc Félix-Leclerc', \"Parc-nature de l'Île-de-la-Visitation\",\n",
       "       'Parc Somerled', 'Square Sir-George-Étienne-Cartier',\n",
       "       'Parc Thérèse-Daviau', 'Place Émilie-Gamelin', 'Parc Joyce',\n",
       "       'Parc du Souvenir', 'Parc des Carrières',\n",
       "       'Parc Adrien-D.-Archambault', 'Parc des Rapides-du-Cheval-Blanc',\n",
       "       'Parc Noël-Sud', 'Parc Harris', 'Parc Angrignon', 'Parc Hayward',\n",
       "       'Parc de la Confédération', 'Square Dorchester', 'Parc Delorme',\n",
       "       'Parc de Dieppe', 'Parc LaSalle', 'Parc Saint-Roch',\n",
       "       'Parc Decelles', 'Parc Trenholme', 'Parc Mackenzie-King',\n",
       "       'Parc J.-Albert-Gariépy', 'Parc Lucie-Bruneau', 'Parc Rutherford',\n",
       "       'Parc Henri-Julien', 'Parc Maynard-Ferguson', 'Parc Julie-Hamelin',\n",
       "       'Parc Beaubien', 'Boisé du parc Marcel-Laurin',\n",
       "       'Parc George-Springate', 'Parc du Fort-Rolland', 'Parc Benny',\n",
       "       'Parc Stoney Point', 'Parc Gohier', 'Parc Howard',\n",
       "       'Parc Jean-Marie-Lamonde', 'Parc Baldwin', 'Parc Arthur-Therrien',\n",
       "       'Parc Beaubien - Outremont', 'Parc Lacharité',\n",
       "       'Parc de la place publique J.-Armand-Bombardier',\n",
       "       'Parc Le Carignan', 'Parc Leroux', 'Parc Beurling',\n",
       "       'Parc Félix-Leclerc - LaSalle', 'Parc Cousineau',\n",
       "       'Parc-nature du Ruisseau-De Montigny', 'Parc Saint-Donat',\n",
       "       'Parc Dollier-De Casson', 'Parc Ignace-Bourget',\n",
       "       'Parc William-Bowie', 'Parc Jean-Brillant', 'Parc Alexander',\n",
       "       'Parc Marie-Victorin', 'Parc Bourbonnière',\n",
       "       \"Parc de l'Honorable-George-O'Reilly\", 'Parc Beaudet',\n",
       "       'Parc de Beauséjour', 'Parc Raimbault',\n",
       "       'Parc-nature du Bois-de-Liesse', 'Parc Greendale',\n",
       "       'Parc de la Petite-Italie', 'Parc Ahuntsic', 'Parc Marin',\n",
       "       'Place Rodolphe-Rousseau', \"Parc de la Marina d'escale\",\n",
       "       'Parc Toussaint-Louverture', 'Parc de Deauville',\n",
       "       'Parc de la Merci', 'Parc Champdoré', 'Parc Sir-Wilfrid-Laurier',\n",
       "       'Parc linéaire du Réseau-Vert', 'Place Vauquelin',\n",
       "       'Parc-nature du Cap-Saint-Jacques', 'Parc Frédéric-Back',\n",
       "       'Parc des Anciens-Combattants', 'Parc Marlborough',\n",
       "       'Parc Jeanne-Sauvé', 'Parc Ludger-Duvernay', 'Parc Chamberland',\n",
       "       'Parc Brook', 'Parc Le Ber', 'Parc Villeray', 'Parc Lafond',\n",
       "       'Parc Belmont', 'Parc De Mésy', 'Parc des Hirondelles',\n",
       "       'Parc Wilson', 'Parc Dante', 'Parc Armand-Bombardier',\n",
       "       'Parc Pie-XII', \"Parc-nature du Bois-de-L'Île-Bizard\",\n",
       "       'Bassin de la Brunante', 'Parc Saint-Benoît',\n",
       "       'Parc Thomas-Chapais', 'Parc Raymond', 'Parc Pierre-Tétreault',\n",
       "       'Parc Nicolas-Tillemont', 'Parc Oscar-Peterson', 'Parc du Pélican',\n",
       "       'Parc-nature du Bois-de-Saraguay', 'Parc Roman-Zytynsky',\n",
       "       'Parc Macdonald', 'Parc Daniel-Johnson', 'Parc Woodland',\n",
       "       'Parc Devonshire', 'Parc De La Vérendrye', 'Parc Louis-Riel',\n",
       "       'Parc Maisonneuve', 'Parc Marcelin-Wilson', 'Le Champ-de-Mars',\n",
       "       'Parc des Royaux', 'Parc Alexis-Nihon', 'Parc Pratt',\n",
       "       'Parc de la Reine-Élisabeth', 'Parc J.-Arthur-Champagne',\n",
       "       'Parc Ouellette', 'Parc Sainte-Bernadette',\n",
       "       \"Parc du Bout-de-l'Île\", 'Parc Saint-Valérien', 'Parc Grovehill',\n",
       "       'Parc Notre-Dame-des-Neiges', 'Parc Gilbert-Layton',\n",
       "       'Parc Jean-Drapeau', 'Parc Saint-Laurent', 'Parc Morgan',\n",
       "       'Parc Van Horne', 'Parc Grier', 'Parc Monseigneur-J.-A.-Richard',\n",
       "       'Parc des Rapides', 'Parc de la Fontaine', 'Parc Houde',\n",
       "       'Parc Samuel-Morse', 'Parc du Bassin-à-Gravier', 'Parc Rougemont',\n",
       "       'Parc de Louisbourg', 'Parc Beaulac', 'Parc Jarry',\n",
       "       'Place Alice-Girard', 'Parc de la Rive-Boisée',\n",
       "       'Square Saint-Louis', 'Parc Kirkland', 'Parc Outremont',\n",
       "       'Parc Philippe-Laheurte', 'Parc Dickson – Pierre-Bédard',\n",
       "       'Parc Desmarchais', 'Parc Napoléon-Sénécal',\n",
       "       'Parc Wilfrid-Bastien', 'Parc Vinet', 'Parc Saint-Louis',\n",
       "       'Parc Hébert', 'Parc Labelle', 'Golf municipal de Montréal',\n",
       "       'Parc du Père-Marquette', 'Parc La Fontaine',\n",
       "       'Parc-nature de la Pointe-aux-Prairies', \"Parc Carlos-D'Alcantara\",\n",
       "       'Parc Yves-Thériault', 'Parc Lomer-Gouin',\n",
       "       'Parc Raymond-Préfontaine', 'Parc de West-Vancouver',\n",
       "       'Parc Aimé-Léonard', 'Parc Tolhurst', 'Parc Saint-Gabriel',\n",
       "       'Parc Liébert', 'Parc de la Louisiane', 'Parc Lalancette',\n",
       "       'Square Dézéry', 'Parc Gédéon-De Catalogne', 'Parc Saint-Émile',\n",
       "       'Parc Dollard-Morin', 'Parc Saint-Simon-Apôtre', 'Parc De Gaspé',\n",
       "       \"Parc de l'Aqueduc\", 'Parc Petit', 'Parc Riverside',\n",
       "       \"Parc de l'Ukraine\", 'Parc Aimé-Caron', 'Parc Carignan',\n",
       "       'Parc Clifford', 'Parc Jean-Amyot', 'Place de la Dauversière',\n",
       "       'Parc du Cours-du-Fleuve', 'Parc Ovila-Pelletier', 'Parc Radisson',\n",
       "       'Parc de Turin', 'Parc Théodore', 'Parc Lacoursière',\n",
       "       \"Parc de l'Ancienne-Pépinière\", 'Parc Lawrence',\n",
       "       'Parc Gabriel-Lalemant', 'Parc Hochelaga', 'Parc des Vétérans',\n",
       "       \"Parc de l'école secondaire de la Pointe-aux-Trembles\",\n",
       "       'Parc de Peterborough', 'Parc Antenne Longue-Pointe',\n",
       "       'Parc des Faubourgs', 'Parc Honoré-Mercier',\n",
       "       'Parc de la Promenade-Bellerive', 'Parc Magnan',\n",
       "       'Domaine Saint-Paul', 'Parc Goncourt', 'Parc Giuseppe-Garibaldi',\n",
       "       'Parc Paquin', 'Parc Rosemont', 'Parc Pierre-Bédard',\n",
       "       'Parc De Salaberry', 'Parc René-Goupil', 'Parc Saint-Clément',\n",
       "       'Parc Sainte-Odile', 'Parc Sainte-Yvette', 'Parc Saint-Victor',\n",
       "       'Parc Médéric-Martin', 'Parc Pierre-Bernard',\n",
       "       'Parc du Pied-du-Courant', 'Parc Francesca-Cabrini',\n",
       "       \"Parc de l'Orée-du-Fleuve\", 'Parc Moulin-du-Rapide',\n",
       "       'Parc des Pins', 'Parc François-Perrault',\n",
       "       'Parc Clément-Jetté Sud', 'Parc François-Vaillancourt',\n",
       "       'Parc Sauvé', 'Parc Oakwood', 'Parc George-Vernot',\n",
       "       'Parc du Boisé-Jean-Milot', 'Parc Saint-Georges', 'Lionel-Groulx',\n",
       "       'Vendôme', 'Peel', 'Namur', 'Outremont', 'Atwater',\n",
       "       'Saint-Laurent', 'Place-des-Arts', 'Monk', 'Acadie', 'Snowdon',\n",
       "       'Radisson', 'Berri-UQAM', 'Champ-de-Mars', 'Préfontaine', 'McGill',\n",
       "       'Sherbrooke', 'Square-Victoria–OACI', 'Cartier', 'Plamondon',\n",
       "       'Jolicoeur', 'Bonaventure', \"Place-d'Armes\", 'Angrignon', 'Pie-IX',\n",
       "       'Frontenac', 'Jean-Drapeau'], dtype=object)"
      ]
     },
     "execution_count": 24,
     "metadata": {},
     "output_type": "execute_result"
    }
   ],
   "source": [
    "names['Names'].unique()"
   ]
  },
  {
   "cell_type": "code",
   "execution_count": 148,
   "metadata": {},
   "outputs": [],
   "source": [
    "s = df.loc[1315 ,'review_text']"
   ]
  },
  {
   "cell_type": "code",
   "execution_count": 149,
   "metadata": {},
   "outputs": [
    {
     "name": "stdout",
     "output_type": "stream",
     "text": [
      "(Translated by Google) Great place to walk with Pitou or just to relax by the river. Large green area where it is nice to spend time.\n",
      "\n",
      "(Original)\n",
      "Superbe endroit pour se promener avec Pitou ou pour simplement aller relaxer près du fleuve. Grand espace vert ou il est agréable de passer du temps.\n"
     ]
    }
   ],
   "source": [
    "print(s)"
   ]
  },
  {
   "cell_type": "code",
   "execution_count": 150,
   "metadata": {},
   "outputs": [],
   "source": [
    "# Cleaning the translated reviews\n",
    "def clean_translated(review):\n",
    "    try:\n",
    "        s = review.split('(Original)')[0].strip()\n",
    "        s = s.split('(Translated by Google)')[1].strip()\n",
    "        return s\n",
    "    except:\n",
    "        return review"
   ]
  },
  {
   "cell_type": "code",
   "execution_count": 151,
   "metadata": {},
   "outputs": [
    {
     "data": {
      "text/plain": [
       "'Great place to walk with Pitou or just to relax by the river. Large green area where it is nice to spend time.'"
      ]
     },
     "execution_count": 151,
     "metadata": {},
     "output_type": "execute_result"
    }
   ],
   "source": [
    "clean_translated(s)"
   ]
  },
  {
   "cell_type": "code",
   "execution_count": 152,
   "metadata": {},
   "outputs": [],
   "source": [
    "for i in range(len(df)):\n",
    "    df.loc[i , 'review_text'] = clean_translated(df.loc[i , 'review_text'])"
   ]
  },
  {
   "cell_type": "code",
   "execution_count": 153,
   "metadata": {},
   "outputs": [
    {
     "data": {
      "text/plain": [
       "'Large park for walking and games for young children\\nPlace for ball games stolen ball\\nAnd vacant lot\\nWater games ect beautiful place'"
      ]
     },
     "execution_count": 153,
     "metadata": {},
     "output_type": "execute_result"
    }
   ],
   "source": [
    "df.loc[1350 ,'review_text']"
   ]
  },
  {
   "cell_type": "code",
   "execution_count": 156,
   "metadata": {},
   "outputs": [
    {
     "data": {
      "text/plain": [
       "en       1363\n",
       "fr        510\n",
       "es         38\n",
       "ru          7\n",
       "pt          6\n",
       "uk          1\n",
       "ko          1\n",
       "el          1\n",
       "zh-CN       1\n",
       "ro          1\n",
       "tr          1\n",
       "pl          1\n",
       "iw          1\n",
       "Name: lang, dtype: int64"
      ]
     },
     "execution_count": 156,
     "metadata": {},
     "output_type": "execute_result"
    }
   ],
   "source": [
    "df['lang'].value_counts()"
   ]
  },
  {
   "cell_type": "code",
   "execution_count": 170,
   "metadata": {},
   "outputs": [],
   "source": [
    "# Indentify Where the language is not english because these are the translated texts retaining their original language\n",
    "no_en = df['lang'].apply(lambda x : x != 'en')"
   ]
  },
  {
   "cell_type": "code",
   "execution_count": 171,
   "metadata": {},
   "outputs": [
    {
     "data": {
      "text/plain": [
       "False    1363\n",
       "True      569\n",
       "Name: lang, dtype: int64"
      ]
     },
     "execution_count": 171,
     "metadata": {},
     "output_type": "execute_result"
    }
   ],
   "source": [
    "no_en.value_counts()"
   ]
  },
  {
   "cell_type": "code",
   "execution_count": 172,
   "metadata": {},
   "outputs": [],
   "source": [
    "df.loc[no_en , 'lang'] = 'en'"
   ]
  },
  {
   "cell_type": "code",
   "execution_count": 173,
   "metadata": {},
   "outputs": [
    {
     "data": {
      "text/plain": [
       "en    1932\n",
       "Name: lang, dtype: int64"
      ]
     },
     "execution_count": 173,
     "metadata": {},
     "output_type": "execute_result"
    }
   ],
   "source": [
    "df['lang'].value_counts()"
   ]
  },
  {
   "cell_type": "code",
   "execution_count": null,
   "metadata": {},
   "outputs": [],
   "source": []
  }
 ],
 "metadata": {
  "kernelspec": {
   "display_name": "Python 3",
   "language": "python",
   "name": "python3"
  },
  "language_info": {
   "codemirror_mode": {
    "name": "ipython",
    "version": 3
   },
   "file_extension": ".py",
   "mimetype": "text/x-python",
   "name": "python",
   "nbconvert_exporter": "python",
   "pygments_lexer": "ipython3",
   "version": "3.7.6"
  }
 },
 "nbformat": 4,
 "nbformat_minor": 4
}
