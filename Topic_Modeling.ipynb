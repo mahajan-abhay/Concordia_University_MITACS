{
 "cells": [
  {
   "cell_type": "code",
   "execution_count": 1,
   "metadata": {},
   "outputs": [],
   "source": [
    "import pandas as pd\n",
    "import numpy as np\n",
    "import pickle"
   ]
  },
  {
   "cell_type": "code",
   "execution_count": 2,
   "metadata": {},
   "outputs": [
    {
     "name": "stderr",
     "output_type": "stream",
     "text": [
      "C:\\Users\\Abhay Mahajan\\anaconda3\\lib\\site-packages\\gensim\\similarities\\__init__.py:15: UserWarning: The gensim.similarities.levenshtein submodule is disabled, because the optional Levenshtein package <https://pypi.org/project/python-Levenshtein/> is unavailable. Install Levenhstein (e.g. `pip install python-Levenshtein`) to suppress this warning.\n",
      "  warnings.warn(msg)\n"
     ]
    }
   ],
   "source": [
    "import gensim\n",
    "from gensim import matutils , models , corpora\n",
    "import scipy.sparse"
   ]
  },
  {
   "cell_type": "code",
   "execution_count": 95,
   "metadata": {},
   "outputs": [],
   "source": [
    "df_maps = pd.read_csv(r\"C:\\Users\\Abhay Mahajan\\Downloads\\ParkReviewsLang.csv\")"
   ]
  },
  {
   "cell_type": "code",
   "execution_count": 96,
   "metadata": {},
   "outputs": [],
   "source": [
    "df_subway = pd.read_csv(r\"C:\\Users\\Abhay Mahajan\\Downloads\\SubwayReviewsLang.csv\")"
   ]
  },
  {
   "cell_type": "code",
   "execution_count": 97,
   "metadata": {},
   "outputs": [],
   "source": [
    "df_yelp = pd.read_csv(r\"C:\\Users\\Abhay Mahajan\\Downloads\\YelpParkReviewsScraped.csv\")"
   ]
  },
  {
   "cell_type": "code",
   "execution_count": 98,
   "metadata": {},
   "outputs": [
    {
     "data": {
      "text/html": [
       "<div>\n",
       "<style scoped>\n",
       "    .dataframe tbody tr th:only-of-type {\n",
       "        vertical-align: middle;\n",
       "    }\n",
       "\n",
       "    .dataframe tbody tr th {\n",
       "        vertical-align: top;\n",
       "    }\n",
       "\n",
       "    .dataframe thead th {\n",
       "        text-align: right;\n",
       "    }\n",
       "</style>\n",
       "<table border=\"1\" class=\"dataframe\">\n",
       "  <thead>\n",
       "    <tr style=\"text-align: right;\">\n",
       "      <th></th>\n",
       "      <th>Unnamed: 0</th>\n",
       "      <th>review_for</th>\n",
       "      <th>review_id</th>\n",
       "      <th>username</th>\n",
       "      <th>user_url</th>\n",
       "      <th>published</th>\n",
       "      <th>date_retrieved</th>\n",
       "      <th>num_stars</th>\n",
       "      <th>num_reviews</th>\n",
       "      <th>review_text</th>\n",
       "      <th>lang</th>\n",
       "    </tr>\n",
       "  </thead>\n",
       "  <tbody>\n",
       "    <tr>\n",
       "      <th>0</th>\n",
       "      <td>0</td>\n",
       "      <td>Parc de la Capture-d'Ethan-Allen</td>\n",
       "      <td>ChdDSUhNMG9nS0VJQ0FnSUNpeGF6TTNnRRAB</td>\n",
       "      <td>Claudia</td>\n",
       "      <td>https://www.google.com/maps/contrib/1001449741...</td>\n",
       "      <td>7 months ago</td>\n",
       "      <td>2021-06-20 22:04:09.211296</td>\n",
       "      <td>4.0</td>\n",
       "      <td>107.0</td>\n",
       "      <td>One of the nicest entry points to this invitin...</td>\n",
       "      <td>en</td>\n",
       "    </tr>\n",
       "    <tr>\n",
       "      <th>1</th>\n",
       "      <td>1</td>\n",
       "      <td>Parc de la Capture-d'Ethan-Allen</td>\n",
       "      <td>ChdDSUhNMG9nS0VJQ0FnSURDOGEyMGpnRRAB</td>\n",
       "      <td>Nate Neel</td>\n",
       "      <td>https://www.google.com/maps/contrib/1121030547...</td>\n",
       "      <td>8 months ago</td>\n",
       "      <td>2021-06-20 22:04:09.212245</td>\n",
       "      <td>5.0</td>\n",
       "      <td>121.0</td>\n",
       "      <td>Waterfront to fish or just relax, great place ...</td>\n",
       "      <td>en</td>\n",
       "    </tr>\n",
       "    <tr>\n",
       "      <th>2</th>\n",
       "      <td>2</td>\n",
       "      <td>Parc de la Capture-d'Ethan-Allen</td>\n",
       "      <td>ChdDSUhNMG9nS0VJQ0FnSUM4Nk9Ya3lnRRAB</td>\n",
       "      <td>Yucel Salimoglu</td>\n",
       "      <td>https://www.google.com/maps/contrib/1034180738...</td>\n",
       "      <td>11 months ago</td>\n",
       "      <td>2021-06-20 22:04:09.213178</td>\n",
       "      <td>4.0</td>\n",
       "      <td>79.0</td>\n",
       "      <td>Everything except the parking is good here.</td>\n",
       "      <td>en</td>\n",
       "    </tr>\n",
       "    <tr>\n",
       "      <th>3</th>\n",
       "      <td>3</td>\n",
       "      <td>Parc de la Capture-d'Ethan-Allen</td>\n",
       "      <td>ChZDSUhNMG9nS0VJQ0FnSUNVdWNUbE9REAE</td>\n",
       "      <td>COCO BEADZ</td>\n",
       "      <td>https://www.google.com/maps/contrib/1036060504...</td>\n",
       "      <td>a year ago</td>\n",
       "      <td>2021-06-20 22:04:09.214115</td>\n",
       "      <td>4.0</td>\n",
       "      <td>128.0</td>\n",
       "      <td>Defenely the best park in Montreal East, Tetre...</td>\n",
       "      <td>en</td>\n",
       "    </tr>\n",
       "    <tr>\n",
       "      <th>4</th>\n",
       "      <td>4</td>\n",
       "      <td>Parc de la Capture-d'Ethan-Allen</td>\n",
       "      <td>ChdDSUhNMG9nS0VJQ0FnSUMwdHJDTm1nRRAB</td>\n",
       "      <td>Anna Maria Fiore</td>\n",
       "      <td>https://www.google.com/maps/contrib/1016779009...</td>\n",
       "      <td>a year ago</td>\n",
       "      <td>2021-06-20 22:04:09.215069</td>\n",
       "      <td>5.0</td>\n",
       "      <td>39.0</td>\n",
       "      <td>It's so peaceful and happy place near the water</td>\n",
       "      <td>en</td>\n",
       "    </tr>\n",
       "  </tbody>\n",
       "</table>\n",
       "</div>"
      ],
      "text/plain": [
       "   Unnamed: 0                        review_for  \\\n",
       "0           0  Parc de la Capture-d'Ethan-Allen   \n",
       "1           1  Parc de la Capture-d'Ethan-Allen   \n",
       "2           2  Parc de la Capture-d'Ethan-Allen   \n",
       "3           3  Parc de la Capture-d'Ethan-Allen   \n",
       "4           4  Parc de la Capture-d'Ethan-Allen   \n",
       "\n",
       "                              review_id          username  \\\n",
       "0  ChdDSUhNMG9nS0VJQ0FnSUNpeGF6TTNnRRAB           Claudia   \n",
       "1  ChdDSUhNMG9nS0VJQ0FnSURDOGEyMGpnRRAB         Nate Neel   \n",
       "2  ChdDSUhNMG9nS0VJQ0FnSUM4Nk9Ya3lnRRAB   Yucel Salimoglu   \n",
       "3   ChZDSUhNMG9nS0VJQ0FnSUNVdWNUbE9REAE        COCO BEADZ   \n",
       "4  ChdDSUhNMG9nS0VJQ0FnSUMwdHJDTm1nRRAB  Anna Maria Fiore   \n",
       "\n",
       "                                            user_url      published  \\\n",
       "0  https://www.google.com/maps/contrib/1001449741...   7 months ago   \n",
       "1  https://www.google.com/maps/contrib/1121030547...   8 months ago   \n",
       "2  https://www.google.com/maps/contrib/1034180738...  11 months ago   \n",
       "3  https://www.google.com/maps/contrib/1036060504...     a year ago   \n",
       "4  https://www.google.com/maps/contrib/1016779009...     a year ago   \n",
       "\n",
       "               date_retrieved  num_stars  num_reviews  \\\n",
       "0  2021-06-20 22:04:09.211296        4.0        107.0   \n",
       "1  2021-06-20 22:04:09.212245        5.0        121.0   \n",
       "2  2021-06-20 22:04:09.213178        4.0         79.0   \n",
       "3  2021-06-20 22:04:09.214115        4.0        128.0   \n",
       "4  2021-06-20 22:04:09.215069        5.0         39.0   \n",
       "\n",
       "                                         review_text lang  \n",
       "0  One of the nicest entry points to this invitin...   en  \n",
       "1  Waterfront to fish or just relax, great place ...   en  \n",
       "2        Everything except the parking is good here.   en  \n",
       "3  Defenely the best park in Montreal East, Tetre...   en  \n",
       "4    It's so peaceful and happy place near the water   en  "
      ]
     },
     "execution_count": 98,
     "metadata": {},
     "output_type": "execute_result"
    }
   ],
   "source": [
    "df_maps.head()"
   ]
  },
  {
   "cell_type": "code",
   "execution_count": 99,
   "metadata": {},
   "outputs": [
    {
     "data": {
      "text/html": [
       "<div>\n",
       "<style scoped>\n",
       "    .dataframe tbody tr th:only-of-type {\n",
       "        vertical-align: middle;\n",
       "    }\n",
       "\n",
       "    .dataframe tbody tr th {\n",
       "        vertical-align: top;\n",
       "    }\n",
       "\n",
       "    .dataframe thead th {\n",
       "        text-align: right;\n",
       "    }\n",
       "</style>\n",
       "<table border=\"1\" class=\"dataframe\">\n",
       "  <thead>\n",
       "    <tr style=\"text-align: right;\">\n",
       "      <th></th>\n",
       "      <th>Unnamed: 0</th>\n",
       "      <th>review_for</th>\n",
       "      <th>review_id</th>\n",
       "      <th>username</th>\n",
       "      <th>user_url</th>\n",
       "      <th>published</th>\n",
       "      <th>date_retrieved</th>\n",
       "      <th>num_stars</th>\n",
       "      <th>num_reviews</th>\n",
       "      <th>review_text</th>\n",
       "      <th>lang</th>\n",
       "    </tr>\n",
       "  </thead>\n",
       "  <tbody>\n",
       "    <tr>\n",
       "      <th>0</th>\n",
       "      <td>0</td>\n",
       "      <td>Lionel-Groulx</td>\n",
       "      <td>ChZDSUhNMG9nS0VJQ0FnSUNjdjkzOVZREAE</td>\n",
       "      <td>Jisan Samrat</td>\n",
       "      <td>https://www.google.com/maps/contrib/1182926626...</td>\n",
       "      <td>a year ago</td>\n",
       "      <td>2021-06-30 00:37:13.278544</td>\n",
       "      <td>5.0</td>\n",
       "      <td>109</td>\n",
       "      <td>Green Line and Orange Line</td>\n",
       "      <td>en</td>\n",
       "    </tr>\n",
       "    <tr>\n",
       "      <th>1</th>\n",
       "      <td>1</td>\n",
       "      <td>Lionel-Groulx</td>\n",
       "      <td>ChdDSUhNMG9nS0VJQ0FnSUR5enRHYW13RRAB</td>\n",
       "      <td>Sheila Ferrando</td>\n",
       "      <td>https://www.google.com/maps/contrib/1096381594...</td>\n",
       "      <td>3 months ago</td>\n",
       "      <td>2021-06-30 00:37:13.279844</td>\n",
       "      <td>5.0</td>\n",
       "      <td>82</td>\n",
       "      <td>It's w metro station Google!</td>\n",
       "      <td>en</td>\n",
       "    </tr>\n",
       "    <tr>\n",
       "      <th>2</th>\n",
       "      <td>2</td>\n",
       "      <td>Lionel-Groulx</td>\n",
       "      <td>ChZDSUhNMG9nS0VJQ0FnSUNxeHVpR0NnEAE</td>\n",
       "      <td>John Mandrake</td>\n",
       "      <td>https://www.google.com/maps/contrib/1049594479...</td>\n",
       "      <td>3 weeks ago</td>\n",
       "      <td>2021-06-30 00:37:13.283496</td>\n",
       "      <td>4.0</td>\n",
       "      <td>47</td>\n",
       "      <td>Good metro station man</td>\n",
       "      <td>en</td>\n",
       "    </tr>\n",
       "    <tr>\n",
       "      <th>3</th>\n",
       "      <td>3</td>\n",
       "      <td>Lionel-Groulx</td>\n",
       "      <td>ChdDSUhNMG9nS0VJQ0FnSURLdXByYmdBRRAB</td>\n",
       "      <td>Abdoulie Touray</td>\n",
       "      <td>https://www.google.com/maps/contrib/1108310335...</td>\n",
       "      <td>a month ago</td>\n",
       "      <td>2021-06-30 00:37:13.285167</td>\n",
       "      <td>5.0</td>\n",
       "      <td>6</td>\n",
       "      <td>Easily accessible</td>\n",
       "      <td>en</td>\n",
       "    </tr>\n",
       "    <tr>\n",
       "      <th>4</th>\n",
       "      <td>4</td>\n",
       "      <td>Lionel-Groulx</td>\n",
       "      <td>ChRDSUhNMG9nS0VJQ0FnSURLdExZUBAB</td>\n",
       "      <td>George Swanson</td>\n",
       "      <td>https://www.google.com/maps/contrib/1165742509...</td>\n",
       "      <td>a month ago</td>\n",
       "      <td>2021-06-30 00:37:13.286322</td>\n",
       "      <td>5.0</td>\n",
       "      <td>8</td>\n",
       "      <td>Nice metro</td>\n",
       "      <td>en</td>\n",
       "    </tr>\n",
       "  </tbody>\n",
       "</table>\n",
       "</div>"
      ],
      "text/plain": [
       "   Unnamed: 0     review_for                             review_id  \\\n",
       "0           0  Lionel-Groulx   ChZDSUhNMG9nS0VJQ0FnSUNjdjkzOVZREAE   \n",
       "1           1  Lionel-Groulx  ChdDSUhNMG9nS0VJQ0FnSUR5enRHYW13RRAB   \n",
       "2           2  Lionel-Groulx   ChZDSUhNMG9nS0VJQ0FnSUNxeHVpR0NnEAE   \n",
       "3           3  Lionel-Groulx  ChdDSUhNMG9nS0VJQ0FnSURLdXByYmdBRRAB   \n",
       "4           4  Lionel-Groulx      ChRDSUhNMG9nS0VJQ0FnSURLdExZUBAB   \n",
       "\n",
       "          username                                           user_url  \\\n",
       "0     Jisan Samrat  https://www.google.com/maps/contrib/1182926626...   \n",
       "1  Sheila Ferrando  https://www.google.com/maps/contrib/1096381594...   \n",
       "2    John Mandrake  https://www.google.com/maps/contrib/1049594479...   \n",
       "3  Abdoulie Touray  https://www.google.com/maps/contrib/1108310335...   \n",
       "4   George Swanson  https://www.google.com/maps/contrib/1165742509...   \n",
       "\n",
       "      published              date_retrieved  num_stars  num_reviews  \\\n",
       "0    a year ago  2021-06-30 00:37:13.278544        5.0          109   \n",
       "1  3 months ago  2021-06-30 00:37:13.279844        5.0           82   \n",
       "2   3 weeks ago  2021-06-30 00:37:13.283496        4.0           47   \n",
       "3   a month ago  2021-06-30 00:37:13.285167        5.0            6   \n",
       "4   a month ago  2021-06-30 00:37:13.286322        5.0            8   \n",
       "\n",
       "                    review_text lang  \n",
       "0    Green Line and Orange Line   en  \n",
       "1  It's w metro station Google!   en  \n",
       "2        Good metro station man   en  \n",
       "3             Easily accessible   en  \n",
       "4                    Nice metro   en  "
      ]
     },
     "execution_count": 99,
     "metadata": {},
     "output_type": "execute_result"
    }
   ],
   "source": [
    "df_subway = df_subway[df_subway['lang'] == 'en']\n",
    "df_subway.head()"
   ]
  },
  {
   "cell_type": "code",
   "execution_count": 100,
   "metadata": {},
   "outputs": [
    {
     "data": {
      "text/html": [
       "<div>\n",
       "<style scoped>\n",
       "    .dataframe tbody tr th:only-of-type {\n",
       "        vertical-align: middle;\n",
       "    }\n",
       "\n",
       "    .dataframe tbody tr th {\n",
       "        vertical-align: top;\n",
       "    }\n",
       "\n",
       "    .dataframe thead th {\n",
       "        text-align: right;\n",
       "    }\n",
       "</style>\n",
       "<table border=\"1\" class=\"dataframe\">\n",
       "  <thead>\n",
       "    <tr style=\"text-align: right;\">\n",
       "      <th></th>\n",
       "      <th>Unnamed: 0</th>\n",
       "      <th>Comment</th>\n",
       "      <th>Rating</th>\n",
       "      <th>Rating Date</th>\n",
       "      <th>Profile Name</th>\n",
       "      <th>Profile Link</th>\n",
       "      <th>Profile Location</th>\n",
       "      <th>Place</th>\n",
       "    </tr>\n",
       "  </thead>\n",
       "  <tbody>\n",
       "    <tr>\n",
       "      <th>0</th>\n",
       "      <td>0</td>\n",
       "      <td>This is a winter review.  For all winter activ...</td>\n",
       "      <td>5</td>\n",
       "      <td>1/16/2021</td>\n",
       "      <td>Aimee H.</td>\n",
       "      <td>https://www.yelp.com/user_details?userid=oW9Po...</td>\n",
       "      <td>Montreal, Canada</td>\n",
       "      <td>Parc du Mont-Royal</td>\n",
       "    </tr>\n",
       "    <tr>\n",
       "      <th>1</th>\n",
       "      <td>1</td>\n",
       "      <td>Parc du Royal has a character all on its own a...</td>\n",
       "      <td>5</td>\n",
       "      <td>8/23/2020</td>\n",
       "      <td>Mercedes C.</td>\n",
       "      <td>https://www.yelp.com/user_details?userid=ooHF-...</td>\n",
       "      <td>Bronx, NY</td>\n",
       "      <td>Parc du Mont-Royal</td>\n",
       "    </tr>\n",
       "    <tr>\n",
       "      <th>2</th>\n",
       "      <td>2</td>\n",
       "      <td>This park provides a fun amount of physical ac...</td>\n",
       "      <td>5</td>\n",
       "      <td>8/28/2020</td>\n",
       "      <td>John S.</td>\n",
       "      <td>https://www.yelp.com/user_details?userid=xHMq2...</td>\n",
       "      <td>Toronto, Canada</td>\n",
       "      <td>Parc du Mont-Royal</td>\n",
       "    </tr>\n",
       "    <tr>\n",
       "      <th>3</th>\n",
       "      <td>3</td>\n",
       "      <td>Parc du Mont-Royal or Mount Royal Park is like...</td>\n",
       "      <td>4</td>\n",
       "      <td>2/8/2020</td>\n",
       "      <td>Daniel B.</td>\n",
       "      <td>https://www.yelp.com/user_details?userid=j14Wg...</td>\n",
       "      <td>Atlanta, GA</td>\n",
       "      <td>Parc du Mont-Royal</td>\n",
       "    </tr>\n",
       "    <tr>\n",
       "      <th>4</th>\n",
       "      <td>4</td>\n",
       "      <td>Really nice urban park with amazing views of t...</td>\n",
       "      <td>5</td>\n",
       "      <td>9/17/2020</td>\n",
       "      <td>Amy L.</td>\n",
       "      <td>https://www.yelp.com/user_details?userid=TfLxu...</td>\n",
       "      <td>Toronto, Canada</td>\n",
       "      <td>Parc du Mont-Royal</td>\n",
       "    </tr>\n",
       "  </tbody>\n",
       "</table>\n",
       "</div>"
      ],
      "text/plain": [
       "   Unnamed: 0                                            Comment  Rating  \\\n",
       "0           0  This is a winter review.  For all winter activ...       5   \n",
       "1           1  Parc du Royal has a character all on its own a...       5   \n",
       "2           2  This park provides a fun amount of physical ac...       5   \n",
       "3           3  Parc du Mont-Royal or Mount Royal Park is like...       4   \n",
       "4           4  Really nice urban park with amazing views of t...       5   \n",
       "\n",
       "  Rating Date Profile Name                                       Profile Link  \\\n",
       "0   1/16/2021     Aimee H.  https://www.yelp.com/user_details?userid=oW9Po...   \n",
       "1   8/23/2020  Mercedes C.  https://www.yelp.com/user_details?userid=ooHF-...   \n",
       "2   8/28/2020      John S.  https://www.yelp.com/user_details?userid=xHMq2...   \n",
       "3    2/8/2020    Daniel B.  https://www.yelp.com/user_details?userid=j14Wg...   \n",
       "4   9/17/2020       Amy L.  https://www.yelp.com/user_details?userid=TfLxu...   \n",
       "\n",
       "   Profile Location               Place  \n",
       "0  Montreal, Canada  Parc du Mont-Royal  \n",
       "1         Bronx, NY  Parc du Mont-Royal  \n",
       "2   Toronto, Canada  Parc du Mont-Royal  \n",
       "3       Atlanta, GA  Parc du Mont-Royal  \n",
       "4   Toronto, Canada  Parc du Mont-Royal  "
      ]
     },
     "execution_count": 100,
     "metadata": {},
     "output_type": "execute_result"
    }
   ],
   "source": [
    "df_yelp.head()"
   ]
  },
  {
   "cell_type": "code",
   "execution_count": 101,
   "metadata": {},
   "outputs": [],
   "source": [
    "df_yelp = df_yelp['Comment']\n",
    "df_subway = df_subway[df_subway['lang'] == 'en']\n",
    "df_subway = df_subway['review_text']"
   ]
  },
  {
   "cell_type": "code",
   "execution_count": 102,
   "metadata": {},
   "outputs": [],
   "source": [
    "df_all = df_maps[df_maps['lang'] == 'en']\n",
    "df_all = df_all['review_text']\n",
    "df_all.append(df_yelp)\n",
    "df_all.append(df_subway)\n",
    "df_all = pd.DataFrame(df_all)"
   ]
  },
  {
   "cell_type": "code",
   "execution_count": 103,
   "metadata": {},
   "outputs": [
    {
     "data": {
      "text/html": [
       "<div>\n",
       "<style scoped>\n",
       "    .dataframe tbody tr th:only-of-type {\n",
       "        vertical-align: middle;\n",
       "    }\n",
       "\n",
       "    .dataframe tbody tr th {\n",
       "        vertical-align: top;\n",
       "    }\n",
       "\n",
       "    .dataframe thead th {\n",
       "        text-align: right;\n",
       "    }\n",
       "</style>\n",
       "<table border=\"1\" class=\"dataframe\">\n",
       "  <thead>\n",
       "    <tr style=\"text-align: right;\">\n",
       "      <th></th>\n",
       "      <th>review_text</th>\n",
       "    </tr>\n",
       "  </thead>\n",
       "  <tbody>\n",
       "    <tr>\n",
       "      <th>0</th>\n",
       "      <td>One of the nicest entry points to this invitin...</td>\n",
       "    </tr>\n",
       "    <tr>\n",
       "      <th>1</th>\n",
       "      <td>Waterfront to fish or just relax, great place ...</td>\n",
       "    </tr>\n",
       "    <tr>\n",
       "      <th>2</th>\n",
       "      <td>Everything except the parking is good here.</td>\n",
       "    </tr>\n",
       "    <tr>\n",
       "      <th>3</th>\n",
       "      <td>Defenely the best park in Montreal East, Tetre...</td>\n",
       "    </tr>\n",
       "    <tr>\n",
       "      <th>4</th>\n",
       "      <td>It's so peaceful and happy place near the water</td>\n",
       "    </tr>\n",
       "  </tbody>\n",
       "</table>\n",
       "</div>"
      ],
      "text/plain": [
       "                                         review_text\n",
       "0  One of the nicest entry points to this invitin...\n",
       "1  Waterfront to fish or just relax, great place ...\n",
       "2        Everything except the parking is good here.\n",
       "3  Defenely the best park in Montreal East, Tetre...\n",
       "4    It's so peaceful and happy place near the water"
      ]
     },
     "execution_count": 103,
     "metadata": {},
     "output_type": "execute_result"
    }
   ],
   "source": [
    "df_all.head()"
   ]
  },
  {
   "cell_type": "code",
   "execution_count": 105,
   "metadata": {},
   "outputs": [],
   "source": [
    "df_all.to_csv('topic-modeling.csv')"
   ]
  },
  {
   "cell_type": "code",
   "execution_count": 71,
   "metadata": {},
   "outputs": [
    {
     "data": {
      "text/plain": [
       "(23032, 1)"
      ]
     },
     "execution_count": 71,
     "metadata": {},
     "output_type": "execute_result"
    }
   ],
   "source": [
    "df_all.shape"
   ]
  },
  {
   "cell_type": "markdown",
   "metadata": {},
   "source": [
    "### Topic Modeling - Attempt #1 (Nouns and Adjectives) - Entire Dataset"
   ]
  },
  {
   "cell_type": "code",
   "execution_count": 74,
   "metadata": {},
   "outputs": [
    {
     "name": "stderr",
     "output_type": "stream",
     "text": [
      "[nltk_data] Downloading package punkt to C:\\Users\\Abhay\n",
      "[nltk_data]     Mahajan\\AppData\\Roaming\\nltk_data...\n",
      "[nltk_data]   Package punkt is already up-to-date!\n",
      "[nltk_data] Downloading package averaged_perceptron_tagger to\n",
      "[nltk_data]     C:\\Users\\Abhay Mahajan\\AppData\\Roaming\\nltk_data...\n",
      "[nltk_data]   Package averaged_perceptron_tagger is already up-to-\n",
      "[nltk_data]       date!\n"
     ]
    }
   ],
   "source": [
    "import nltk\n",
    "nltk.download('punkt')\n",
    "nltk.download('averaged_perceptron_tagger')\n",
    "from nltk import word_tokenize, pos_tag"
   ]
  },
  {
   "cell_type": "code",
   "execution_count": 75,
   "metadata": {},
   "outputs": [],
   "source": [
    "# Let's create a function to pull out nouns and adjectives from a string of text\n",
    "def nouns_adj(text):\n",
    "    '''Given a string of text, tokenize the text and pull out only the nouns and adjectives.'''\n",
    "    is_noun_adj = lambda pos: pos[:2] == 'NN' or pos[:2] == 'JJ'\n",
    "    tokenized = word_tokenize(text)\n",
    "    nouns_adj = [word for (word, pos) in pos_tag(tokenized) if is_noun_adj(pos)] \n",
    "    return ' '.join(nouns_adj)"
   ]
  },
  {
   "cell_type": "code",
   "execution_count": 76,
   "metadata": {},
   "outputs": [],
   "source": [
    "df_all = pd.DataFrame(df_all['review_text'].apply(nouns_adj))"
   ]
  },
  {
   "cell_type": "code",
   "execution_count": 77,
   "metadata": {},
   "outputs": [],
   "source": [
    "ps = nltk.stem.PorterStemmer()"
   ]
  },
  {
   "cell_type": "markdown",
   "metadata": {},
   "source": [
    "### Stemming"
   ]
  },
  {
   "cell_type": "code",
   "execution_count": 78,
   "metadata": {},
   "outputs": [],
   "source": [
    "def stem_sentences(sentence):\n",
    "    tokens = sentence.split()\n",
    "    stemmed_tokens = [ps.stem(token) for token in tokens]\n",
    "    return ' '.join(stemmed_tokens)"
   ]
  },
  {
   "cell_type": "code",
   "execution_count": 79,
   "metadata": {},
   "outputs": [],
   "source": [
    "df_all['review_text'] = df_all['review_text'].apply(stem_sentences)"
   ]
  },
  {
   "cell_type": "code",
   "execution_count": 80,
   "metadata": {},
   "outputs": [
    {
     "data": {
      "text/html": [
       "<div>\n",
       "<style scoped>\n",
       "    .dataframe tbody tr th:only-of-type {\n",
       "        vertical-align: middle;\n",
       "    }\n",
       "\n",
       "    .dataframe tbody tr th {\n",
       "        vertical-align: top;\n",
       "    }\n",
       "\n",
       "    .dataframe thead th {\n",
       "        text-align: right;\n",
       "    }\n",
       "</style>\n",
       "<table border=\"1\" class=\"dataframe\">\n",
       "  <thead>\n",
       "    <tr style=\"text-align: right;\">\n",
       "      <th></th>\n",
       "      <th>review_text</th>\n",
       "    </tr>\n",
       "  </thead>\n",
       "  <tbody>\n",
       "    <tr>\n",
       "      <th>0</th>\n",
       "      <td>nicest entri point waterfront promenad st-lawr...</td>\n",
       "    </tr>\n",
       "    <tr>\n",
       "      <th>1</th>\n",
       "      <td>waterfront great place hangout sunset amaz place</td>\n",
       "    </tr>\n",
       "    <tr>\n",
       "      <th>2</th>\n",
       "      <td>everyth park good</td>\n",
       "    </tr>\n",
       "    <tr>\n",
       "      <th>3</th>\n",
       "      <td>best park montreal east tetreauvil area park b...</td>\n",
       "    </tr>\n",
       "    <tr>\n",
       "      <th>4</th>\n",
       "      <td>peac happi place water</td>\n",
       "    </tr>\n",
       "  </tbody>\n",
       "</table>\n",
       "</div>"
      ],
      "text/plain": [
       "                                         review_text\n",
       "0  nicest entri point waterfront promenad st-lawr...\n",
       "1   waterfront great place hangout sunset amaz place\n",
       "2                                  everyth park good\n",
       "3  best park montreal east tetreauvil area park b...\n",
       "4                             peac happi place water"
      ]
     },
     "execution_count": 80,
     "metadata": {},
     "output_type": "execute_result"
    }
   ],
   "source": [
    "df_all.head()"
   ]
  },
  {
   "cell_type": "code",
   "execution_count": 82,
   "metadata": {},
   "outputs": [],
   "source": [
    "from sklearn.feature_extraction import text\n",
    "add_stop_words = ['translated' , 'googl']\n",
    "stop_words = text.ENGLISH_STOP_WORDS.union(add_stop_words)"
   ]
  },
  {
   "cell_type": "code",
   "execution_count": 83,
   "metadata": {},
   "outputs": [],
   "source": [
    "from sklearn.feature_extraction.text import CountVectorizer\n",
    "cv_noun_adj = CountVectorizer(stop_words = stop_words)\n",
    "data_cv_noun_adj = cv_noun_adj.fit_transform(df_all['review_text']).toarray()\n",
    "features_noun_adj = cv_noun_adj.get_feature_names()"
   ]
  },
  {
   "cell_type": "code",
   "execution_count": 84,
   "metadata": {},
   "outputs": [],
   "source": [
    "df1 = pd.DataFrame(data_cv_noun_adj , columns = features_noun_adj)"
   ]
  },
  {
   "cell_type": "code",
   "execution_count": 85,
   "metadata": {},
   "outputs": [],
   "source": [
    "term_document_matrix_noun_adj = df1.transpose()\n",
    "term_document_matrix_noun_adj\n",
    "sparse_matrix_noun_adj = scipy.sparse.csr_matrix(term_document_matrix_noun_adj)\n",
    "corpus_noun_adj = matutils.Sparse2Corpus(sparse_matrix_noun_adj)"
   ]
  },
  {
   "cell_type": "code",
   "execution_count": 86,
   "metadata": {},
   "outputs": [],
   "source": [
    "id2word_noun_adj = corpora.Dictionary([features_noun_adj])"
   ]
  },
  {
   "cell_type": "code",
   "execution_count": 91,
   "metadata": {},
   "outputs": [
    {
     "data": {
      "text/plain": [
       "[(0,\n",
       "  '0.111*\"park\" + 0.030*\"nice\" + 0.025*\"kid\" + 0.022*\"lot\" + 0.016*\"great\" + 0.014*\"montreal\" + 0.014*\"area\" + 0.012*\"water\" + 0.012*\"dog\" + 0.011*\"big\"'),\n",
       " (1,\n",
       "  '0.095*\"place\" + 0.047*\"nice\" + 0.046*\"great\" + 0.037*\"beauti\" + 0.034*\"good\" + 0.018*\"famili\" + 0.018*\"walk\" + 0.018*\"parc\" + 0.017*\"origin\" + 0.017*\"time\"')]"
      ]
     },
     "execution_count": 91,
     "metadata": {},
     "output_type": "execute_result"
    }
   ],
   "source": [
    "# Number of Topics = 2\n",
    "lda_noun_adj = models.LdaModel(corpus=corpus_noun_adj, id2word=id2word_noun_adj, num_topics=2, passes=40)\n",
    "lda_noun_adj.print_topics()"
   ]
  },
  {
   "cell_type": "code",
   "execution_count": 92,
   "metadata": {},
   "outputs": [
    {
     "data": {
      "text/plain": [
       "-3.0915207901167725"
      ]
     },
     "execution_count": 92,
     "metadata": {},
     "output_type": "execute_result"
    }
   ],
   "source": [
    "gensim.models.coherencemodel.CoherenceModel(corpus = corpus_noun_adj , model=lda_noun_adj, coherence='u_mass').get_coherence()"
   ]
  },
  {
   "cell_type": "code",
   "execution_count": 93,
   "metadata": {},
   "outputs": [
    {
     "data": {
      "text/plain": [
       "[(0,\n",
       "  '0.068*\"beauti\" + 0.048*\"park\" + 0.027*\"montreal\" + 0.021*\"citi\" + 0.019*\"view\" + 0.015*\"best\" + 0.012*\"bike\" + 0.010*\"parc\" + 0.010*\"natur\" + 0.010*\"amaz\"'),\n",
       " (1,\n",
       "  '0.091*\"park\" + 0.035*\"kid\" + 0.034*\"good\" + 0.031*\"lot\" + 0.017*\"dog\" + 0.016*\"area\" + 0.016*\"big\" + 0.015*\"water\" + 0.015*\"space\" + 0.015*\"great\"'),\n",
       " (2,\n",
       "  '0.148*\"place\" + 0.140*\"nice\" + 0.082*\"great\" + 0.045*\"park\" + 0.027*\"origin\" + 0.024*\"famili\" + 0.018*\"walk\" + 0.018*\"friend\" + 0.017*\"super\" + 0.017*\"picnic\"')]"
      ]
     },
     "execution_count": 93,
     "metadata": {},
     "output_type": "execute_result"
    }
   ],
   "source": [
    "# Number of Topics = 3\n",
    "lda_noun_adj = models.LdaModel(corpus=corpus_noun_adj, id2word=id2word_noun_adj, num_topics=3, passes=40)\n",
    "lda_noun_adj.print_topics()"
   ]
  },
  {
   "cell_type": "code",
   "execution_count": 94,
   "metadata": {},
   "outputs": [
    {
     "data": {
      "text/plain": [
       "-3.1727085620245608"
      ]
     },
     "execution_count": 94,
     "metadata": {},
     "output_type": "execute_result"
    }
   ],
   "source": [
    "gensim.models.coherencemodel.CoherenceModel(corpus = corpus_noun_adj , model=lda_noun_adj, coherence='u_mass').get_coherence()"
   ]
  },
  {
   "cell_type": "code",
   "execution_count": 89,
   "metadata": {},
   "outputs": [
    {
     "data": {
      "text/plain": [
       "[(0,\n",
       "  '0.270*\"nice\" + 0.218*\"place\" + 0.046*\"quiet\" + 0.039*\"peac\" + 0.031*\"walk\" + 0.029*\"clean\" + 0.021*\"relax\" + 0.014*\"la\" + 0.013*\"ok\" + 0.012*\"air\"'),\n",
       " (1,\n",
       "  '0.028*\"pond\" + 0.026*\"access\" + 0.026*\"duck\" + 0.020*\"metro\" + 0.016*\"st\" + 0.014*\"water\" + 0.014*\"swim\" + 0.014*\"easi\" + 0.014*\"festiv\" + 0.014*\"station\"'),\n",
       " (2,\n",
       "  '0.144*\"great\" + 0.112*\"place\" + 0.100*\"beauti\" + 0.059*\"origin\" + 0.036*\"excel\" + 0.032*\"view\" + 0.028*\"walk\" + 0.023*\"natur\" + 0.020*\"amaz\" + 0.019*\"bike\"'),\n",
       " (3,\n",
       "  '0.061*\"space\" + 0.059*\"park\" + 0.049*\"field\" + 0.048*\"lot\" + 0.038*\"soccer\" + 0.036*\"court\" + 0.033*\"sport\" + 0.031*\"picnic\" + 0.030*\"tenni\" + 0.030*\"green\"'),\n",
       " (4,\n",
       "  '0.089*\"good\" + 0.081*\"park\" + 0.045*\"citi\" + 0.040*\"montreal\" + 0.039*\"best\" + 0.028*\"peopl\" + 0.027*\"beauti\" + 0.027*\"cool\" + 0.021*\"mani\" + 0.016*\"time\"'),\n",
       " (5,\n",
       "  '0.039*\"park\" + 0.027*\"montreal\" + 0.025*\"trail\" + 0.025*\"littl\" + 0.017*\"walk\" + 0.013*\"cute\" + 0.013*\"island\" + 0.013*\"view\" + 0.013*\"citi\" + 0.012*\"small\"'),\n",
       " (6,\n",
       "  '0.101*\"place\" + 0.089*\"famili\" + 0.066*\"great\" + 0.058*\"summer\" + 0.055*\"friend\" + 0.045*\"time\" + 0.035*\"fun\" + 0.033*\"picnic\" + 0.030*\"awesom\" + 0.027*\"bbq\"'),\n",
       " (7,\n",
       "  '0.270*\"park\" + 0.101*\"nice\" + 0.059*\"dog\" + 0.056*\"beauti\" + 0.039*\"super\" + 0.034*\"big\" + 0.034*\"lot\" + 0.028*\"activ\" + 0.018*\"clean\" + 0.016*\"littl\"'),\n",
       " (8,\n",
       "  '0.098*\"kid\" + 0.091*\"park\" + 0.034*\"great\" + 0.034*\"area\" + 0.030*\"water\" + 0.030*\"small\" + 0.026*\"nice\" + 0.025*\"playground\" + 0.023*\"good\" + 0.021*\"pool\"'),\n",
       " (9,\n",
       "  '0.186*\"parc\" + 0.034*\"event\" + 0.021*\"le\" + 0.015*\"noth\" + 0.014*\"special\" + 0.011*\"fontain\" + 0.010*\"ador\" + 0.009*\"concert\" + 0.008*\"beau\" + 0.008*\"trè\"')]"
      ]
     },
     "execution_count": 89,
     "metadata": {},
     "output_type": "execute_result"
    }
   ],
   "source": [
    "# Number of Topics = 10\n",
    "lda_noun_adj = models.LdaModel(corpus=corpus_noun_adj, id2word=id2word_noun_adj, num_topics=10, passes=40)\n",
    "lda_noun_adj.print_topics()"
   ]
  },
  {
   "cell_type": "code",
   "execution_count": 90,
   "metadata": {},
   "outputs": [
    {
     "data": {
      "text/plain": [
       "-5.425093178411784"
      ]
     },
     "execution_count": 90,
     "metadata": {},
     "output_type": "execute_result"
    }
   ],
   "source": [
    "gensim.models.coherencemodel.CoherenceModel(corpus = corpus_noun_adj , model=lda_noun_adj, coherence='u_mass').get_coherence()"
   ]
  },
  {
   "cell_type": "markdown",
   "metadata": {},
   "source": [
    "### Topic Modeling - Attempt #1 (Nouns and Adjectives) - Negative Reviews"
   ]
  },
  {
   "cell_type": "code",
   "execution_count": 106,
   "metadata": {},
   "outputs": [],
   "source": [
    "df_maps = pd.read_csv(r\"C:\\Users\\Abhay Mahajan\\Downloads\\ParkReviewsLang.csv\")\n",
    "df_subway = pd.read_csv(r\"C:\\Users\\Abhay Mahajan\\Downloads\\SubwayReviewsLang.csv\")\n",
    "df_yelp = pd.read_csv(r\"C:\\Users\\Abhay Mahajan\\Downloads\\YelpParkReviewsScraped.csv\")"
   ]
  },
  {
   "cell_type": "code",
   "execution_count": 107,
   "metadata": {},
   "outputs": [
    {
     "data": {
      "text/html": [
       "<div>\n",
       "<style scoped>\n",
       "    .dataframe tbody tr th:only-of-type {\n",
       "        vertical-align: middle;\n",
       "    }\n",
       "\n",
       "    .dataframe tbody tr th {\n",
       "        vertical-align: top;\n",
       "    }\n",
       "\n",
       "    .dataframe thead th {\n",
       "        text-align: right;\n",
       "    }\n",
       "</style>\n",
       "<table border=\"1\" class=\"dataframe\">\n",
       "  <thead>\n",
       "    <tr style=\"text-align: right;\">\n",
       "      <th></th>\n",
       "      <th>Unnamed: 0</th>\n",
       "      <th>review_for</th>\n",
       "      <th>review_id</th>\n",
       "      <th>username</th>\n",
       "      <th>user_url</th>\n",
       "      <th>published</th>\n",
       "      <th>date_retrieved</th>\n",
       "      <th>num_stars</th>\n",
       "      <th>num_reviews</th>\n",
       "      <th>review_text</th>\n",
       "      <th>lang</th>\n",
       "    </tr>\n",
       "  </thead>\n",
       "  <tbody>\n",
       "    <tr>\n",
       "      <th>0</th>\n",
       "      <td>0</td>\n",
       "      <td>Parc de la Capture-d'Ethan-Allen</td>\n",
       "      <td>ChdDSUhNMG9nS0VJQ0FnSUNpeGF6TTNnRRAB</td>\n",
       "      <td>Claudia</td>\n",
       "      <td>https://www.google.com/maps/contrib/1001449741...</td>\n",
       "      <td>7 months ago</td>\n",
       "      <td>2021-06-20 22:04:09.211296</td>\n",
       "      <td>4.0</td>\n",
       "      <td>107.0</td>\n",
       "      <td>One of the nicest entry points to this invitin...</td>\n",
       "      <td>en</td>\n",
       "    </tr>\n",
       "    <tr>\n",
       "      <th>1</th>\n",
       "      <td>1</td>\n",
       "      <td>Parc de la Capture-d'Ethan-Allen</td>\n",
       "      <td>ChdDSUhNMG9nS0VJQ0FnSURDOGEyMGpnRRAB</td>\n",
       "      <td>Nate Neel</td>\n",
       "      <td>https://www.google.com/maps/contrib/1121030547...</td>\n",
       "      <td>8 months ago</td>\n",
       "      <td>2021-06-20 22:04:09.212245</td>\n",
       "      <td>5.0</td>\n",
       "      <td>121.0</td>\n",
       "      <td>Waterfront to fish or just relax, great place ...</td>\n",
       "      <td>en</td>\n",
       "    </tr>\n",
       "    <tr>\n",
       "      <th>2</th>\n",
       "      <td>2</td>\n",
       "      <td>Parc de la Capture-d'Ethan-Allen</td>\n",
       "      <td>ChdDSUhNMG9nS0VJQ0FnSUM4Nk9Ya3lnRRAB</td>\n",
       "      <td>Yucel Salimoglu</td>\n",
       "      <td>https://www.google.com/maps/contrib/1034180738...</td>\n",
       "      <td>11 months ago</td>\n",
       "      <td>2021-06-20 22:04:09.213178</td>\n",
       "      <td>4.0</td>\n",
       "      <td>79.0</td>\n",
       "      <td>Everything except the parking is good here.</td>\n",
       "      <td>en</td>\n",
       "    </tr>\n",
       "    <tr>\n",
       "      <th>3</th>\n",
       "      <td>3</td>\n",
       "      <td>Parc de la Capture-d'Ethan-Allen</td>\n",
       "      <td>ChZDSUhNMG9nS0VJQ0FnSUNVdWNUbE9REAE</td>\n",
       "      <td>COCO BEADZ</td>\n",
       "      <td>https://www.google.com/maps/contrib/1036060504...</td>\n",
       "      <td>a year ago</td>\n",
       "      <td>2021-06-20 22:04:09.214115</td>\n",
       "      <td>4.0</td>\n",
       "      <td>128.0</td>\n",
       "      <td>Defenely the best park in Montreal East, Tetre...</td>\n",
       "      <td>en</td>\n",
       "    </tr>\n",
       "    <tr>\n",
       "      <th>4</th>\n",
       "      <td>4</td>\n",
       "      <td>Parc de la Capture-d'Ethan-Allen</td>\n",
       "      <td>ChdDSUhNMG9nS0VJQ0FnSUMwdHJDTm1nRRAB</td>\n",
       "      <td>Anna Maria Fiore</td>\n",
       "      <td>https://www.google.com/maps/contrib/1016779009...</td>\n",
       "      <td>a year ago</td>\n",
       "      <td>2021-06-20 22:04:09.215069</td>\n",
       "      <td>5.0</td>\n",
       "      <td>39.0</td>\n",
       "      <td>It's so peaceful and happy place near the water</td>\n",
       "      <td>en</td>\n",
       "    </tr>\n",
       "  </tbody>\n",
       "</table>\n",
       "</div>"
      ],
      "text/plain": [
       "   Unnamed: 0                        review_for  \\\n",
       "0           0  Parc de la Capture-d'Ethan-Allen   \n",
       "1           1  Parc de la Capture-d'Ethan-Allen   \n",
       "2           2  Parc de la Capture-d'Ethan-Allen   \n",
       "3           3  Parc de la Capture-d'Ethan-Allen   \n",
       "4           4  Parc de la Capture-d'Ethan-Allen   \n",
       "\n",
       "                              review_id          username  \\\n",
       "0  ChdDSUhNMG9nS0VJQ0FnSUNpeGF6TTNnRRAB           Claudia   \n",
       "1  ChdDSUhNMG9nS0VJQ0FnSURDOGEyMGpnRRAB         Nate Neel   \n",
       "2  ChdDSUhNMG9nS0VJQ0FnSUM4Nk9Ya3lnRRAB   Yucel Salimoglu   \n",
       "3   ChZDSUhNMG9nS0VJQ0FnSUNVdWNUbE9REAE        COCO BEADZ   \n",
       "4  ChdDSUhNMG9nS0VJQ0FnSUMwdHJDTm1nRRAB  Anna Maria Fiore   \n",
       "\n",
       "                                            user_url      published  \\\n",
       "0  https://www.google.com/maps/contrib/1001449741...   7 months ago   \n",
       "1  https://www.google.com/maps/contrib/1121030547...   8 months ago   \n",
       "2  https://www.google.com/maps/contrib/1034180738...  11 months ago   \n",
       "3  https://www.google.com/maps/contrib/1036060504...     a year ago   \n",
       "4  https://www.google.com/maps/contrib/1016779009...     a year ago   \n",
       "\n",
       "               date_retrieved  num_stars  num_reviews  \\\n",
       "0  2021-06-20 22:04:09.211296        4.0        107.0   \n",
       "1  2021-06-20 22:04:09.212245        5.0        121.0   \n",
       "2  2021-06-20 22:04:09.213178        4.0         79.0   \n",
       "3  2021-06-20 22:04:09.214115        4.0        128.0   \n",
       "4  2021-06-20 22:04:09.215069        5.0         39.0   \n",
       "\n",
       "                                         review_text lang  \n",
       "0  One of the nicest entry points to this invitin...   en  \n",
       "1  Waterfront to fish or just relax, great place ...   en  \n",
       "2        Everything except the parking is good here.   en  \n",
       "3  Defenely the best park in Montreal East, Tetre...   en  \n",
       "4    It's so peaceful and happy place near the water   en  "
      ]
     },
     "execution_count": 107,
     "metadata": {},
     "output_type": "execute_result"
    }
   ],
   "source": [
    "df_maps.head()"
   ]
  },
  {
   "cell_type": "code",
   "execution_count": 108,
   "metadata": {},
   "outputs": [
    {
     "data": {
      "text/html": [
       "<div>\n",
       "<style scoped>\n",
       "    .dataframe tbody tr th:only-of-type {\n",
       "        vertical-align: middle;\n",
       "    }\n",
       "\n",
       "    .dataframe tbody tr th {\n",
       "        vertical-align: top;\n",
       "    }\n",
       "\n",
       "    .dataframe thead th {\n",
       "        text-align: right;\n",
       "    }\n",
       "</style>\n",
       "<table border=\"1\" class=\"dataframe\">\n",
       "  <thead>\n",
       "    <tr style=\"text-align: right;\">\n",
       "      <th></th>\n",
       "      <th>Unnamed: 0</th>\n",
       "      <th>Comment</th>\n",
       "      <th>Rating</th>\n",
       "      <th>Rating Date</th>\n",
       "      <th>Profile Name</th>\n",
       "      <th>Profile Link</th>\n",
       "      <th>Profile Location</th>\n",
       "      <th>Place</th>\n",
       "    </tr>\n",
       "  </thead>\n",
       "  <tbody>\n",
       "    <tr>\n",
       "      <th>0</th>\n",
       "      <td>0</td>\n",
       "      <td>This is a winter review.  For all winter activ...</td>\n",
       "      <td>5</td>\n",
       "      <td>1/16/2021</td>\n",
       "      <td>Aimee H.</td>\n",
       "      <td>https://www.yelp.com/user_details?userid=oW9Po...</td>\n",
       "      <td>Montreal, Canada</td>\n",
       "      <td>Parc du Mont-Royal</td>\n",
       "    </tr>\n",
       "    <tr>\n",
       "      <th>1</th>\n",
       "      <td>1</td>\n",
       "      <td>Parc du Royal has a character all on its own a...</td>\n",
       "      <td>5</td>\n",
       "      <td>8/23/2020</td>\n",
       "      <td>Mercedes C.</td>\n",
       "      <td>https://www.yelp.com/user_details?userid=ooHF-...</td>\n",
       "      <td>Bronx, NY</td>\n",
       "      <td>Parc du Mont-Royal</td>\n",
       "    </tr>\n",
       "    <tr>\n",
       "      <th>2</th>\n",
       "      <td>2</td>\n",
       "      <td>This park provides a fun amount of physical ac...</td>\n",
       "      <td>5</td>\n",
       "      <td>8/28/2020</td>\n",
       "      <td>John S.</td>\n",
       "      <td>https://www.yelp.com/user_details?userid=xHMq2...</td>\n",
       "      <td>Toronto, Canada</td>\n",
       "      <td>Parc du Mont-Royal</td>\n",
       "    </tr>\n",
       "    <tr>\n",
       "      <th>3</th>\n",
       "      <td>3</td>\n",
       "      <td>Parc du Mont-Royal or Mount Royal Park is like...</td>\n",
       "      <td>4</td>\n",
       "      <td>2/8/2020</td>\n",
       "      <td>Daniel B.</td>\n",
       "      <td>https://www.yelp.com/user_details?userid=j14Wg...</td>\n",
       "      <td>Atlanta, GA</td>\n",
       "      <td>Parc du Mont-Royal</td>\n",
       "    </tr>\n",
       "    <tr>\n",
       "      <th>4</th>\n",
       "      <td>4</td>\n",
       "      <td>Really nice urban park with amazing views of t...</td>\n",
       "      <td>5</td>\n",
       "      <td>9/17/2020</td>\n",
       "      <td>Amy L.</td>\n",
       "      <td>https://www.yelp.com/user_details?userid=TfLxu...</td>\n",
       "      <td>Toronto, Canada</td>\n",
       "      <td>Parc du Mont-Royal</td>\n",
       "    </tr>\n",
       "  </tbody>\n",
       "</table>\n",
       "</div>"
      ],
      "text/plain": [
       "   Unnamed: 0                                            Comment  Rating  \\\n",
       "0           0  This is a winter review.  For all winter activ...       5   \n",
       "1           1  Parc du Royal has a character all on its own a...       5   \n",
       "2           2  This park provides a fun amount of physical ac...       5   \n",
       "3           3  Parc du Mont-Royal or Mount Royal Park is like...       4   \n",
       "4           4  Really nice urban park with amazing views of t...       5   \n",
       "\n",
       "  Rating Date Profile Name                                       Profile Link  \\\n",
       "0   1/16/2021     Aimee H.  https://www.yelp.com/user_details?userid=oW9Po...   \n",
       "1   8/23/2020  Mercedes C.  https://www.yelp.com/user_details?userid=ooHF-...   \n",
       "2   8/28/2020      John S.  https://www.yelp.com/user_details?userid=xHMq2...   \n",
       "3    2/8/2020    Daniel B.  https://www.yelp.com/user_details?userid=j14Wg...   \n",
       "4   9/17/2020       Amy L.  https://www.yelp.com/user_details?userid=TfLxu...   \n",
       "\n",
       "   Profile Location               Place  \n",
       "0  Montreal, Canada  Parc du Mont-Royal  \n",
       "1         Bronx, NY  Parc du Mont-Royal  \n",
       "2   Toronto, Canada  Parc du Mont-Royal  \n",
       "3       Atlanta, GA  Parc du Mont-Royal  \n",
       "4   Toronto, Canada  Parc du Mont-Royal  "
      ]
     },
     "execution_count": 108,
     "metadata": {},
     "output_type": "execute_result"
    }
   ],
   "source": [
    "df_yelp.head()"
   ]
  },
  {
   "cell_type": "code",
   "execution_count": 109,
   "metadata": {},
   "outputs": [
    {
     "data": {
      "text/html": [
       "<div>\n",
       "<style scoped>\n",
       "    .dataframe tbody tr th:only-of-type {\n",
       "        vertical-align: middle;\n",
       "    }\n",
       "\n",
       "    .dataframe tbody tr th {\n",
       "        vertical-align: top;\n",
       "    }\n",
       "\n",
       "    .dataframe thead th {\n",
       "        text-align: right;\n",
       "    }\n",
       "</style>\n",
       "<table border=\"1\" class=\"dataframe\">\n",
       "  <thead>\n",
       "    <tr style=\"text-align: right;\">\n",
       "      <th></th>\n",
       "      <th>Unnamed: 0</th>\n",
       "      <th>review_for</th>\n",
       "      <th>review_id</th>\n",
       "      <th>username</th>\n",
       "      <th>user_url</th>\n",
       "      <th>published</th>\n",
       "      <th>date_retrieved</th>\n",
       "      <th>num_stars</th>\n",
       "      <th>num_reviews</th>\n",
       "      <th>review_text</th>\n",
       "      <th>lang</th>\n",
       "    </tr>\n",
       "  </thead>\n",
       "  <tbody>\n",
       "    <tr>\n",
       "      <th>0</th>\n",
       "      <td>0</td>\n",
       "      <td>Lionel-Groulx</td>\n",
       "      <td>ChZDSUhNMG9nS0VJQ0FnSUNjdjkzOVZREAE</td>\n",
       "      <td>Jisan Samrat</td>\n",
       "      <td>https://www.google.com/maps/contrib/1182926626...</td>\n",
       "      <td>a year ago</td>\n",
       "      <td>2021-06-30 00:37:13.278544</td>\n",
       "      <td>5.0</td>\n",
       "      <td>109</td>\n",
       "      <td>Green Line and Orange Line</td>\n",
       "      <td>en</td>\n",
       "    </tr>\n",
       "    <tr>\n",
       "      <th>1</th>\n",
       "      <td>1</td>\n",
       "      <td>Lionel-Groulx</td>\n",
       "      <td>ChdDSUhNMG9nS0VJQ0FnSUR5enRHYW13RRAB</td>\n",
       "      <td>Sheila Ferrando</td>\n",
       "      <td>https://www.google.com/maps/contrib/1096381594...</td>\n",
       "      <td>3 months ago</td>\n",
       "      <td>2021-06-30 00:37:13.279844</td>\n",
       "      <td>5.0</td>\n",
       "      <td>82</td>\n",
       "      <td>It's w metro station Google!</td>\n",
       "      <td>en</td>\n",
       "    </tr>\n",
       "    <tr>\n",
       "      <th>2</th>\n",
       "      <td>2</td>\n",
       "      <td>Lionel-Groulx</td>\n",
       "      <td>ChZDSUhNMG9nS0VJQ0FnSUNxeHVpR0NnEAE</td>\n",
       "      <td>John Mandrake</td>\n",
       "      <td>https://www.google.com/maps/contrib/1049594479...</td>\n",
       "      <td>3 weeks ago</td>\n",
       "      <td>2021-06-30 00:37:13.283496</td>\n",
       "      <td>4.0</td>\n",
       "      <td>47</td>\n",
       "      <td>Good metro station man</td>\n",
       "      <td>en</td>\n",
       "    </tr>\n",
       "    <tr>\n",
       "      <th>3</th>\n",
       "      <td>3</td>\n",
       "      <td>Lionel-Groulx</td>\n",
       "      <td>ChdDSUhNMG9nS0VJQ0FnSURLdXByYmdBRRAB</td>\n",
       "      <td>Abdoulie Touray</td>\n",
       "      <td>https://www.google.com/maps/contrib/1108310335...</td>\n",
       "      <td>a month ago</td>\n",
       "      <td>2021-06-30 00:37:13.285167</td>\n",
       "      <td>5.0</td>\n",
       "      <td>6</td>\n",
       "      <td>Easily accessible</td>\n",
       "      <td>en</td>\n",
       "    </tr>\n",
       "    <tr>\n",
       "      <th>4</th>\n",
       "      <td>4</td>\n",
       "      <td>Lionel-Groulx</td>\n",
       "      <td>ChRDSUhNMG9nS0VJQ0FnSURLdExZUBAB</td>\n",
       "      <td>George Swanson</td>\n",
       "      <td>https://www.google.com/maps/contrib/1165742509...</td>\n",
       "      <td>a month ago</td>\n",
       "      <td>2021-06-30 00:37:13.286322</td>\n",
       "      <td>5.0</td>\n",
       "      <td>8</td>\n",
       "      <td>Nice metro</td>\n",
       "      <td>en</td>\n",
       "    </tr>\n",
       "  </tbody>\n",
       "</table>\n",
       "</div>"
      ],
      "text/plain": [
       "   Unnamed: 0     review_for                             review_id  \\\n",
       "0           0  Lionel-Groulx   ChZDSUhNMG9nS0VJQ0FnSUNjdjkzOVZREAE   \n",
       "1           1  Lionel-Groulx  ChdDSUhNMG9nS0VJQ0FnSUR5enRHYW13RRAB   \n",
       "2           2  Lionel-Groulx   ChZDSUhNMG9nS0VJQ0FnSUNxeHVpR0NnEAE   \n",
       "3           3  Lionel-Groulx  ChdDSUhNMG9nS0VJQ0FnSURLdXByYmdBRRAB   \n",
       "4           4  Lionel-Groulx      ChRDSUhNMG9nS0VJQ0FnSURLdExZUBAB   \n",
       "\n",
       "          username                                           user_url  \\\n",
       "0     Jisan Samrat  https://www.google.com/maps/contrib/1182926626...   \n",
       "1  Sheila Ferrando  https://www.google.com/maps/contrib/1096381594...   \n",
       "2    John Mandrake  https://www.google.com/maps/contrib/1049594479...   \n",
       "3  Abdoulie Touray  https://www.google.com/maps/contrib/1108310335...   \n",
       "4   George Swanson  https://www.google.com/maps/contrib/1165742509...   \n",
       "\n",
       "      published              date_retrieved  num_stars  num_reviews  \\\n",
       "0    a year ago  2021-06-30 00:37:13.278544        5.0          109   \n",
       "1  3 months ago  2021-06-30 00:37:13.279844        5.0           82   \n",
       "2   3 weeks ago  2021-06-30 00:37:13.283496        4.0           47   \n",
       "3   a month ago  2021-06-30 00:37:13.285167        5.0            6   \n",
       "4   a month ago  2021-06-30 00:37:13.286322        5.0            8   \n",
       "\n",
       "                    review_text lang  \n",
       "0    Green Line and Orange Line   en  \n",
       "1  It's w metro station Google!   en  \n",
       "2        Good metro station man   en  \n",
       "3             Easily accessible   en  \n",
       "4                    Nice metro   en  "
      ]
     },
     "execution_count": 109,
     "metadata": {},
     "output_type": "execute_result"
    }
   ],
   "source": [
    "df_subway.head()"
   ]
  },
  {
   "cell_type": "code",
   "execution_count": 111,
   "metadata": {},
   "outputs": [],
   "source": [
    "df_maps = df_maps[df_maps['num_stars'] < 4]\n",
    "df_yelp = df_yelp[df_yelp['Rating'] < 4]\n",
    "df_subway = df_subway[df_subway['num_stars'] < 4]"
   ]
  },
  {
   "cell_type": "code",
   "execution_count": 112,
   "metadata": {},
   "outputs": [],
   "source": [
    "df_yelp = df_yelp['Comment']\n",
    "df_subway = df_subway[df_subway['lang'] == 'en']\n",
    "df_subway = df_subway['review_text']"
   ]
  },
  {
   "cell_type": "code",
   "execution_count": 113,
   "metadata": {},
   "outputs": [],
   "source": [
    "df_all = df_maps[df_maps['lang'] == 'en']\n",
    "df_all = df_all['review_text']\n",
    "df_all.append(df_yelp)\n",
    "df_all.append(df_subway)\n",
    "df_all = pd.DataFrame(df_all)"
   ]
  },
  {
   "cell_type": "code",
   "execution_count": 114,
   "metadata": {},
   "outputs": [
    {
     "data": {
      "text/plain": [
       "(2248, 1)"
      ]
     },
     "execution_count": 114,
     "metadata": {},
     "output_type": "execute_result"
    }
   ],
   "source": [
    "df_all.shape"
   ]
  },
  {
   "cell_type": "code",
   "execution_count": 115,
   "metadata": {},
   "outputs": [],
   "source": [
    "df_all = pd.DataFrame(df_all['review_text'].apply(nouns_adj))"
   ]
  },
  {
   "cell_type": "code",
   "execution_count": 116,
   "metadata": {},
   "outputs": [],
   "source": [
    "ps = nltk.stem.PorterStemmer()"
   ]
  },
  {
   "cell_type": "markdown",
   "metadata": {},
   "source": [
    "### Stemming"
   ]
  },
  {
   "cell_type": "code",
   "execution_count": 117,
   "metadata": {},
   "outputs": [],
   "source": [
    "def stem_sentences(sentence):\n",
    "    tokens = sentence.split()\n",
    "    stemmed_tokens = [ps.stem(token) for token in tokens]\n",
    "    return ' '.join(stemmed_tokens)"
   ]
  },
  {
   "cell_type": "code",
   "execution_count": 118,
   "metadata": {},
   "outputs": [],
   "source": [
    "df_all['review_text'] = df_all['review_text'].apply(stem_sentences)"
   ]
  },
  {
   "cell_type": "code",
   "execution_count": 119,
   "metadata": {},
   "outputs": [],
   "source": [
    "from sklearn.feature_extraction import text\n",
    "add_stop_words = ['translated' , 'googl']\n",
    "stop_words = text.ENGLISH_STOP_WORDS.union(add_stop_words)"
   ]
  },
  {
   "cell_type": "code",
   "execution_count": 120,
   "metadata": {},
   "outputs": [],
   "source": [
    "from sklearn.feature_extraction.text import CountVectorizer\n",
    "cv_noun_adj = CountVectorizer(stop_words = stop_words)\n",
    "data_cv_noun_adj = cv_noun_adj.fit_transform(df_all['review_text']).toarray()\n",
    "features_noun_adj = cv_noun_adj.get_feature_names()"
   ]
  },
  {
   "cell_type": "code",
   "execution_count": 121,
   "metadata": {},
   "outputs": [],
   "source": [
    "df2 = pd.DataFrame(data_cv_noun_adj , columns = features_noun_adj)"
   ]
  },
  {
   "cell_type": "code",
   "execution_count": 125,
   "metadata": {},
   "outputs": [],
   "source": [
    "term_document_matrix_noun_adj = df2.transpose()\n",
    "term_document_matrix_noun_adj\n",
    "sparse_matrix_noun_adj = scipy.sparse.csr_matrix(term_document_matrix_noun_adj)\n",
    "corpus_noun_adj = matutils.Sparse2Corpus(sparse_matrix_noun_adj)"
   ]
  },
  {
   "cell_type": "code",
   "execution_count": 126,
   "metadata": {},
   "outputs": [],
   "source": [
    "id2word_noun_adj = corpora.Dictionary([features_noun_adj])"
   ]
  },
  {
   "cell_type": "code",
   "execution_count": 127,
   "metadata": {},
   "outputs": [
    {
     "data": {
      "text/plain": [
       "[(0,\n",
       "  '0.034*\"nice\" + 0.028*\"place\" + 0.020*\"park\" + 0.013*\"ok\" + 0.013*\"bad\" + 0.013*\"area\" + 0.010*\"dirti\" + 0.008*\"parc\" + 0.008*\"montreal\" + 0.007*\"small\"'),\n",
       " (1,\n",
       "  '0.090*\"park\" + 0.026*\"kid\" + 0.021*\"nice\" + 0.019*\"peopl\" + 0.017*\"good\" + 0.016*\"great\" + 0.015*\"lot\" + 0.014*\"water\" + 0.014*\"place\" + 0.012*\"mani\"')]"
      ]
     },
     "execution_count": 127,
     "metadata": {},
     "output_type": "execute_result"
    }
   ],
   "source": [
    "# Number of Topics = 2\n",
    "lda_noun_adj = models.LdaModel(corpus=corpus_noun_adj, id2word=id2word_noun_adj, num_topics=2, passes=40)\n",
    "lda_noun_adj.print_topics()"
   ]
  },
  {
   "cell_type": "code",
   "execution_count": 128,
   "metadata": {},
   "outputs": [
    {
     "data": {
      "text/plain": [
       "-4.633133572901304"
      ]
     },
     "execution_count": 128,
     "metadata": {},
     "output_type": "execute_result"
    }
   ],
   "source": [
    "gensim.models.coherencemodel.CoherenceModel(corpus = corpus_noun_adj , model=lda_noun_adj, coherence='u_mass').get_coherence()"
   ]
  },
  {
   "cell_type": "code",
   "execution_count": 129,
   "metadata": {},
   "outputs": [
    {
     "data": {
      "text/plain": [
       "[(0,\n",
       "  '0.029*\"good\" + 0.017*\"mani\" + 0.014*\"park\" + 0.014*\"littl\" + 0.014*\"bad\" + 0.012*\"area\" + 0.011*\"noth\" + 0.010*\"origin\" + 0.009*\"spot\" + 0.009*\"bit\"'),\n",
       " (1,\n",
       "  '0.103*\"park\" + 0.046*\"nice\" + 0.032*\"place\" + 0.023*\"kid\" + 0.016*\"peopl\" + 0.015*\"water\" + 0.014*\"dog\" + 0.014*\"lot\" + 0.012*\"small\" + 0.009*\"great\"'),\n",
       " (2,\n",
       "  '0.024*\"ok\" + 0.017*\"great\" + 0.016*\"parc\" + 0.011*\"cool\" + 0.011*\"kid\" + 0.009*\"metro\" + 0.008*\"day\" + 0.007*\"origin\" + 0.006*\"ice\" + 0.006*\"super\"')]"
      ]
     },
     "execution_count": 129,
     "metadata": {},
     "output_type": "execute_result"
    }
   ],
   "source": [
    "# Number of Topics = 3\n",
    "lda_noun_adj = models.LdaModel(corpus=corpus_noun_adj, id2word=id2word_noun_adj, num_topics=3, passes=40)\n",
    "lda_noun_adj.print_topics()"
   ]
  },
  {
   "cell_type": "code",
   "execution_count": 130,
   "metadata": {},
   "outputs": [
    {
     "data": {
      "text/plain": [
       "-8.252994560326371"
      ]
     },
     "execution_count": 130,
     "metadata": {},
     "output_type": "execute_result"
    }
   ],
   "source": [
    "gensim.models.coherencemodel.CoherenceModel(corpus = corpus_noun_adj , model=lda_noun_adj, coherence='u_mass').get_coherence()"
   ]
  },
  {
   "cell_type": "code",
   "execution_count": 131,
   "metadata": {},
   "outputs": [
    {
     "data": {
      "text/plain": [
       "[(0,\n",
       "  '0.024*\"suit\" + 0.019*\"bath\" + 0.017*\"new\" + 0.017*\"mainten\" + 0.016*\"day\" + 0.016*\"pool\" + 0.015*\"mai\" + 0.014*\"kid\" + 0.013*\"onli\" + 0.013*\"swimsuit\"'),\n",
       " (1,\n",
       "  '0.087*\"park\" + 0.057*\"lot\" + 0.038*\"small\" + 0.032*\"peopl\" + 0.018*\"homeless\" + 0.015*\"mani\" + 0.014*\"neighborhood\" + 0.012*\"free\" + 0.011*\"hous\" + 0.010*\"junki\"'),\n",
       " (2,\n",
       "  '0.043*\"mani\" + 0.042*\"park\" + 0.042*\"peopl\" + 0.024*\"garbag\" + 0.015*\"food\" + 0.013*\"area\" + 0.013*\"horribl\" + 0.012*\"distanc\" + 0.011*\"great\" + 0.010*\"safe\"'),\n",
       " (3,\n",
       "  '0.057*\"park\" + 0.049*\"dog\" + 0.038*\"great\" + 0.036*\"water\" + 0.033*\"dirti\" + 0.018*\"bit\" + 0.014*\"car\" + 0.012*\"picnic\" + 0.012*\"access\" + 0.012*\"super\"'),\n",
       " (4,\n",
       "  '0.124*\"park\" + 0.052*\"nice\" + 0.048*\"kid\" + 0.021*\"ok\" + 0.017*\"playground\" + 0.017*\"parc\" + 0.017*\"field\" + 0.014*\"citi\" + 0.014*\"small\" + 0.014*\"basebal\"'),\n",
       " (5,\n",
       "  '0.131*\"good\" + 0.034*\"correct\" + 0.032*\"parc\" + 0.025*\"work\" + 0.021*\"le\" + 0.019*\"shape\" + 0.017*\"walkway\" + 0.012*\"eau\" + 0.011*\"bad\" + 0.011*\"job\"'),\n",
       " (6,\n",
       "  '0.101*\"place\" + 0.071*\"nice\" + 0.027*\"good\" + 0.025*\"park\" + 0.023*\"space\" + 0.021*\"walk\" + 0.018*\"littl\" + 0.017*\"view\" + 0.017*\"green\" + 0.016*\"area\"'),\n",
       " (7,\n",
       "  '0.086*\"park\" + 0.072*\"origin\" + 0.038*\"bad\" + 0.022*\"beauti\" + 0.018*\"noth\" + 0.017*\"peopl\" + 0.015*\"special\" + 0.014*\"old\" + 0.012*\"night\" + 0.012*\"run\"'),\n",
       " (8,\n",
       "  '0.033*\"nice\" + 0.029*\"place\" + 0.027*\"cool\" + 0.027*\"park\" + 0.024*\"kid\" + 0.021*\"lot\" + 0.021*\"spot\" + 0.021*\"clean\" + 0.019*\"care\" + 0.016*\"parc\"'),\n",
       " (9,\n",
       "  '0.051*\"place\" + 0.031*\"park\" + 0.031*\"time\" + 0.024*\"montreal\" + 0.022*\"nice\" + 0.019*\"beauti\" + 0.017*\"fun\" + 0.016*\"year\" + 0.014*\"pictur\" + 0.014*\"cute\"')]"
      ]
     },
     "execution_count": 131,
     "metadata": {},
     "output_type": "execute_result"
    }
   ],
   "source": [
    "# Number of Topics = 10\n",
    "lda_noun_adj = models.LdaModel(corpus=corpus_noun_adj, id2word=id2word_noun_adj, num_topics=10, passes=40)\n",
    "lda_noun_adj.print_topics()"
   ]
  },
  {
   "cell_type": "code",
   "execution_count": 132,
   "metadata": {},
   "outputs": [
    {
     "data": {
      "text/plain": [
       "-9.898181033530548"
      ]
     },
     "execution_count": 132,
     "metadata": {},
     "output_type": "execute_result"
    }
   ],
   "source": [
    "gensim.models.coherencemodel.CoherenceModel(corpus = corpus_noun_adj , model=lda_noun_adj, coherence='u_mass').get_coherence()"
   ]
  },
  {
   "cell_type": "code",
   "execution_count": null,
   "metadata": {},
   "outputs": [],
   "source": []
  }
 ],
 "metadata": {
  "kernelspec": {
   "display_name": "Python 3",
   "language": "python",
   "name": "python3"
  },
  "language_info": {
   "codemirror_mode": {
    "name": "ipython",
    "version": 3
   },
   "file_extension": ".py",
   "mimetype": "text/x-python",
   "name": "python",
   "nbconvert_exporter": "python",
   "pygments_lexer": "ipython3",
   "version": "3.7.6"
  }
 },
 "nbformat": 4,
 "nbformat_minor": 4
}
